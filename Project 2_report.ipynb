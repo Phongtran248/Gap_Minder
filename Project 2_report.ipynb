{
 "cells": [
  {
   "cell_type": "markdown",
   "metadata": {},
   "source": [
    "# Gapminder Project: Investigate a dataset   \n",
    "\n",
    "### Dublin, 24 August 2018  \n",
    "**This project aims to provide an overview on data exploration processes beginning with Data Gathering, Research Questions and culminating in Data Wrangling (Assessing, Cleaning and Visualization). This project also reveals insights of the data through self-made Research Questions.**"
   ]
  },
  {
   "cell_type": "markdown",
   "metadata": {},
   "source": [
    "## I. Data Gathering \n",
    "Data is collected from: [Gapminder World website](https://www.gapminder.org/data/)  \n",
    "All the indicators are the new, updated ones, which can be downloaded in CSV or XLSX format.  \n",
    "Indicators downloaded are:\n",
    "* Babies per woman\n",
    "* CO2 emissions\n",
    "* Child mortality \n",
    "* Income\n",
    "* Life expectancy \n"
   ]
  },
  {
   "cell_type": "markdown",
   "metadata": {},
   "source": [
    "## II.\tResearch questions  \n",
    "\n",
    "1.\tIn general, what does the life expectancy around the world look like.  \n",
    "    ♦\tHave certain regions of the world been growing in life expectancy better than the rest?   \n",
    "    ♦\tHave certain periods that the life expectancy decreases?\n",
    "2.\tIn general, what does the number of babies per woman around the world look like?\n",
    "3.\tIn general, what does the child mortality rate around the world look like?\n",
    "4.\tIn general, what does the amount of CO2 emissions around the world look like?\n",
    "5.\tIn general, what does the incomes around the world look like?\n",
    "\n",
    "6.\tWhich factor has the strongest relation to the life expectancy in your region?\n",
    "7.\tWhat is the relationship between the number of babies per woman vs child mortality in your region?\n",
    "8.\tWhat is the relationship between the number of babies per woman vs life expectancy in your region?\n",
    "9.\tWhat is the relationship between the amount of CO2 emissions vs the Income in your region?\n",
    "10.\tWhich factor has the strongest relation to the Income in your region?\n"
   ]
  },
  {
   "cell_type": "markdown",
   "metadata": {},
   "source": [
    "## III.\tData Wrangling\n",
    "\n",
    "For this part, the following steps will be taken to answer each research question  \n",
    "I.\tData Assessing & Cleaning   \n",
    "II.\tData Exploration   \n",
    "III.\tData Visualization \n",
    "\n"
   ]
  },
  {
   "cell_type": "markdown",
   "metadata": {},
   "source": [
    "### Research question 1  \n",
    "In general, what does the life expectancy around the world look like?  \n",
    "♦ Have certain regions of the world been growing in life expectancy better than the rest?  \n",
    "♦ Have certain periods that the life expectancy decreases?"
   ]
  },
  {
   "cell_type": "code",
   "execution_count": 2,
   "metadata": {
    "collapsed": true
   },
   "outputs": [],
   "source": [
    "import pandas as pd\n",
    "import numpy as np\n",
    "import seaborn as sns\n",
    "import matplotlib.pyplot as plt\n",
    "%matplotlib inline\n",
    "df_life= pd.read_csv('life_expectancy_years.csv')"
   ]
  },
  {
   "cell_type": "code",
   "execution_count": 3,
   "metadata": {},
   "outputs": [
    {
     "data": {
      "text/html": [
       "<div>\n",
       "<style scoped>\n",
       "    .dataframe tbody tr th:only-of-type {\n",
       "        vertical-align: middle;\n",
       "    }\n",
       "\n",
       "    .dataframe tbody tr th {\n",
       "        vertical-align: top;\n",
       "    }\n",
       "\n",
       "    .dataframe thead th {\n",
       "        text-align: right;\n",
       "    }\n",
       "</style>\n",
       "<table border=\"1\" class=\"dataframe\">\n",
       "  <thead>\n",
       "    <tr style=\"text-align: right;\">\n",
       "      <th></th>\n",
       "      <th>geo</th>\n",
       "      <th>1800</th>\n",
       "      <th>1801</th>\n",
       "      <th>1802</th>\n",
       "      <th>1803</th>\n",
       "      <th>1804</th>\n",
       "      <th>1805</th>\n",
       "      <th>1806</th>\n",
       "      <th>1807</th>\n",
       "      <th>1808</th>\n",
       "      <th>...</th>\n",
       "      <th>2009</th>\n",
       "      <th>2010</th>\n",
       "      <th>2011</th>\n",
       "      <th>2012</th>\n",
       "      <th>2013</th>\n",
       "      <th>2014</th>\n",
       "      <th>2015</th>\n",
       "      <th>2016</th>\n",
       "      <th>2017</th>\n",
       "      <th>2018</th>\n",
       "    </tr>\n",
       "  </thead>\n",
       "  <tbody>\n",
       "    <tr>\n",
       "      <th>0</th>\n",
       "      <td>Afghanistan</td>\n",
       "      <td>28.2</td>\n",
       "      <td>28.2</td>\n",
       "      <td>28.2</td>\n",
       "      <td>28.2</td>\n",
       "      <td>28.2</td>\n",
       "      <td>28.2</td>\n",
       "      <td>28.1</td>\n",
       "      <td>28.1</td>\n",
       "      <td>28.1</td>\n",
       "      <td>...</td>\n",
       "      <td>55.7</td>\n",
       "      <td>56.2</td>\n",
       "      <td>56.7</td>\n",
       "      <td>57.2</td>\n",
       "      <td>57.7</td>\n",
       "      <td>57.8</td>\n",
       "      <td>57.9</td>\n",
       "      <td>58.0</td>\n",
       "      <td>58.4</td>\n",
       "      <td>58.7</td>\n",
       "    </tr>\n",
       "    <tr>\n",
       "      <th>1</th>\n",
       "      <td>Albania</td>\n",
       "      <td>35.4</td>\n",
       "      <td>35.4</td>\n",
       "      <td>35.4</td>\n",
       "      <td>35.4</td>\n",
       "      <td>35.4</td>\n",
       "      <td>35.4</td>\n",
       "      <td>35.4</td>\n",
       "      <td>35.4</td>\n",
       "      <td>35.4</td>\n",
       "      <td>...</td>\n",
       "      <td>75.9</td>\n",
       "      <td>76.3</td>\n",
       "      <td>76.7</td>\n",
       "      <td>77.0</td>\n",
       "      <td>77.2</td>\n",
       "      <td>77.4</td>\n",
       "      <td>77.6</td>\n",
       "      <td>77.7</td>\n",
       "      <td>77.9</td>\n",
       "      <td>78.0</td>\n",
       "    </tr>\n",
       "  </tbody>\n",
       "</table>\n",
       "<p>2 rows × 220 columns</p>\n",
       "</div>"
      ],
      "text/plain": [
       "           geo  1800  1801  1802  1803  1804  1805  1806  1807  1808  ...   \\\n",
       "0  Afghanistan  28.2  28.2  28.2  28.2  28.2  28.2  28.1  28.1  28.1  ...    \n",
       "1      Albania  35.4  35.4  35.4  35.4  35.4  35.4  35.4  35.4  35.4  ...    \n",
       "\n",
       "   2009  2010  2011  2012  2013  2014  2015  2016  2017  2018  \n",
       "0  55.7  56.2  56.7  57.2  57.7  57.8  57.9  58.0  58.4  58.7  \n",
       "1  75.9  76.3  76.7  77.0  77.2  77.4  77.6  77.7  77.9  78.0  \n",
       "\n",
       "[2 rows x 220 columns]"
      ]
     },
     "execution_count": 3,
     "metadata": {},
     "output_type": "execute_result"
    }
   ],
   "source": [
    "df_life.head(2)"
   ]
  },
  {
   "cell_type": "markdown",
   "metadata": {},
   "source": [
    "Check the number of **null values** in the dataset"
   ]
  },
  {
   "cell_type": "code",
   "execution_count": 4,
   "metadata": {},
   "outputs": [
    {
     "data": {
      "text/plain": [
       "172"
      ]
     },
     "execution_count": 4,
     "metadata": {},
     "output_type": "execute_result"
    }
   ],
   "source": [
    "sum(df_life.isnull().any())"
   ]
  },
  {
   "cell_type": "markdown",
   "metadata": {},
   "source": [
    "Check whether the dataset has **duplicated values**"
   ]
  },
  {
   "cell_type": "code",
   "execution_count": 5,
   "metadata": {},
   "outputs": [
    {
     "data": {
      "text/plain": [
       "0"
      ]
     },
     "execution_count": 5,
     "metadata": {},
     "output_type": "execute_result"
    }
   ],
   "source": [
    "sum(df_life.duplicated())"
   ]
  },
  {
   "cell_type": "markdown",
   "metadata": {},
   "source": [
    "Identify the region, i.e continent for each country"
   ]
  },
  {
   "cell_type": "markdown",
   "metadata": {},
   "source": [
    "Create a new column named 'region' to map the continent"
   ]
  },
  {
   "cell_type": "code",
   "execution_count": 7,
   "metadata": {
    "collapsed": true
   },
   "outputs": [],
   "source": [
    "df_life['region']=np.repeat('',df_life.shape[0])"
   ]
  },
  {
   "cell_type": "markdown",
   "metadata": {},
   "source": [
    "Create 5 dataframes for 5 continent dataset. Each dataset contains a list of countries in that continent.  \n",
    "These datasets are downloaded from [Country-list.info](http://www.countries-list.info/Download-List) in text format.\n",
    "Please let me know if you need me to submit these txt files"
   ]
  },
  {
   "cell_type": "code",
   "execution_count": 8,
   "metadata": {
    "collapsed": true
   },
   "outputs": [],
   "source": [
    "dw_af=pd.read_csv('Africa.txt')\n",
    "dw_as=pd.read_csv('Asia.txt')\n",
    "dw_eu=pd.read_csv('Europe.txt')\n",
    "dw_oc=pd.read_csv('Oceania.txt')\n",
    "dw_am=pd.read_csv('America.txt')"
   ]
  },
  {
   "cell_type": "markdown",
   "metadata": {},
   "source": [
    "Convert these dataframes to list in order to extract country names"
   ]
  },
  {
   "cell_type": "code",
   "execution_count": 10,
   "metadata": {
    "collapsed": true
   },
   "outputs": [],
   "source": [
    "dw_af=dw_af.values.T.tolist()\n",
    "dw_as=dw_as.values.T.tolist()\n",
    "dw_eu=dw_eu.values.T.tolist()\n",
    "dw_oc=dw_oc.values.T.tolist()\n",
    "dw_am=dw_am.values.T.tolist()"
   ]
  },
  {
   "cell_type": "markdown",
   "metadata": {},
   "source": [
    "Assign the names of 5 continent for corresponding coutries in the list"
   ]
  },
  {
   "cell_type": "code",
   "execution_count": 11,
   "metadata": {
    "collapsed": true
   },
   "outputs": [],
   "source": [
    "df_life.loc[df_life['geo'].isin(dw_af[0]),['region']]=\"Africa\"\n",
    "df_life.loc[df_life['geo'].isin(dw_as[0]),['region']]=\"Asia\"\n",
    "df_life.loc[df_life['geo'].isin(dw_eu[0]),['region']]=\"Europe\"\n",
    "df_life.loc[df_life['geo'].isin(dw_oc[0]),['region']]=\"Oceania\"\n",
    "df_life.loc[df_life['geo'].isin(dw_am[0]),['region']]=\"America\""
   ]
  },
  {
   "cell_type": "markdown",
   "metadata": {},
   "source": [
    "Double check to see the countries without region assigned "
   ]
  },
  {
   "cell_type": "code",
   "execution_count": 12,
   "metadata": {},
   "outputs": [
    {
     "data": {
      "text/html": [
       "<div>\n",
       "<style scoped>\n",
       "    .dataframe tbody tr th:only-of-type {\n",
       "        vertical-align: middle;\n",
       "    }\n",
       "\n",
       "    .dataframe tbody tr th {\n",
       "        vertical-align: top;\n",
       "    }\n",
       "\n",
       "    .dataframe thead th {\n",
       "        text-align: right;\n",
       "    }\n",
       "</style>\n",
       "<table border=\"1\" class=\"dataframe\">\n",
       "  <thead>\n",
       "    <tr style=\"text-align: right;\">\n",
       "      <th></th>\n",
       "      <th>geo</th>\n",
       "      <th>1800</th>\n",
       "      <th>1801</th>\n",
       "      <th>1802</th>\n",
       "      <th>1803</th>\n",
       "      <th>1804</th>\n",
       "      <th>1805</th>\n",
       "      <th>1806</th>\n",
       "      <th>1807</th>\n",
       "      <th>1808</th>\n",
       "      <th>...</th>\n",
       "      <th>2010</th>\n",
       "      <th>2011</th>\n",
       "      <th>2012</th>\n",
       "      <th>2013</th>\n",
       "      <th>2014</th>\n",
       "      <th>2015</th>\n",
       "      <th>2016</th>\n",
       "      <th>2017</th>\n",
       "      <th>2018</th>\n",
       "      <th>region</th>\n",
       "    </tr>\n",
       "  </thead>\n",
       "  <tbody>\n",
       "    <tr>\n",
       "      <th>38</th>\n",
       "      <td>Congo, Dem. Rep.</td>\n",
       "      <td>31.6</td>\n",
       "      <td>31.6</td>\n",
       "      <td>31.6</td>\n",
       "      <td>31.6</td>\n",
       "      <td>31.6</td>\n",
       "      <td>31.6</td>\n",
       "      <td>31.6</td>\n",
       "      <td>31.6</td>\n",
       "      <td>31.6</td>\n",
       "      <td>...</td>\n",
       "      <td>57.5</td>\n",
       "      <td>58.0</td>\n",
       "      <td>58.5</td>\n",
       "      <td>59.3</td>\n",
       "      <td>60.1</td>\n",
       "      <td>60.9</td>\n",
       "      <td>61.6</td>\n",
       "      <td>62.0</td>\n",
       "      <td>62.4</td>\n",
       "      <td></td>\n",
       "    </tr>\n",
       "    <tr>\n",
       "      <th>39</th>\n",
       "      <td>Congo, Rep.</td>\n",
       "      <td>32.7</td>\n",
       "      <td>32.7</td>\n",
       "      <td>32.7</td>\n",
       "      <td>32.7</td>\n",
       "      <td>32.7</td>\n",
       "      <td>32.7</td>\n",
       "      <td>32.7</td>\n",
       "      <td>32.7</td>\n",
       "      <td>32.7</td>\n",
       "      <td>...</td>\n",
       "      <td>60.4</td>\n",
       "      <td>61.1</td>\n",
       "      <td>61.5</td>\n",
       "      <td>62.0</td>\n",
       "      <td>62.4</td>\n",
       "      <td>62.6</td>\n",
       "      <td>63.0</td>\n",
       "      <td>63.4</td>\n",
       "      <td>63.9</td>\n",
       "      <td></td>\n",
       "    </tr>\n",
       "    <tr>\n",
       "      <th>41</th>\n",
       "      <td>Cote d'Ivoire</td>\n",
       "      <td>31.2</td>\n",
       "      <td>31.2</td>\n",
       "      <td>31.2</td>\n",
       "      <td>31.2</td>\n",
       "      <td>31.2</td>\n",
       "      <td>31.2</td>\n",
       "      <td>31.2</td>\n",
       "      <td>31.2</td>\n",
       "      <td>31.2</td>\n",
       "      <td>...</td>\n",
       "      <td>56.3</td>\n",
       "      <td>56.9</td>\n",
       "      <td>57.4</td>\n",
       "      <td>58.1</td>\n",
       "      <td>58.6</td>\n",
       "      <td>59.2</td>\n",
       "      <td>60.0</td>\n",
       "      <td>60.6</td>\n",
       "      <td>61.2</td>\n",
       "      <td></td>\n",
       "    </tr>\n",
       "    <tr>\n",
       "      <th>98</th>\n",
       "      <td>Macedonia, FYR</td>\n",
       "      <td>36.1</td>\n",
       "      <td>36.1</td>\n",
       "      <td>36.1</td>\n",
       "      <td>36.1</td>\n",
       "      <td>36.1</td>\n",
       "      <td>36.1</td>\n",
       "      <td>36.1</td>\n",
       "      <td>36.1</td>\n",
       "      <td>36.1</td>\n",
       "      <td>...</td>\n",
       "      <td>74.0</td>\n",
       "      <td>74.2</td>\n",
       "      <td>74.2</td>\n",
       "      <td>74.3</td>\n",
       "      <td>74.4</td>\n",
       "      <td>74.6</td>\n",
       "      <td>74.9</td>\n",
       "      <td>75.0</td>\n",
       "      <td>75.2</td>\n",
       "      <td></td>\n",
       "    </tr>\n",
       "    <tr>\n",
       "      <th>109</th>\n",
       "      <td>Micronesia, Fed. Sts.</td>\n",
       "      <td>26.7</td>\n",
       "      <td>26.7</td>\n",
       "      <td>26.7</td>\n",
       "      <td>26.7</td>\n",
       "      <td>26.7</td>\n",
       "      <td>26.7</td>\n",
       "      <td>26.7</td>\n",
       "      <td>26.7</td>\n",
       "      <td>26.7</td>\n",
       "      <td>...</td>\n",
       "      <td>65.4</td>\n",
       "      <td>65.4</td>\n",
       "      <td>65.6</td>\n",
       "      <td>65.6</td>\n",
       "      <td>65.5</td>\n",
       "      <td>65.3</td>\n",
       "      <td>65.6</td>\n",
       "      <td>65.7</td>\n",
       "      <td>65.8</td>\n",
       "      <td></td>\n",
       "    </tr>\n",
       "  </tbody>\n",
       "</table>\n",
       "<p>5 rows × 221 columns</p>\n",
       "</div>"
      ],
      "text/plain": [
       "                       geo  1800  1801  1802  1803  1804  1805  1806  1807  \\\n",
       "38        Congo, Dem. Rep.  31.6  31.6  31.6  31.6  31.6  31.6  31.6  31.6   \n",
       "39             Congo, Rep.  32.7  32.7  32.7  32.7  32.7  32.7  32.7  32.7   \n",
       "41           Cote d'Ivoire  31.2  31.2  31.2  31.2  31.2  31.2  31.2  31.2   \n",
       "98          Macedonia, FYR  36.1  36.1  36.1  36.1  36.1  36.1  36.1  36.1   \n",
       "109  Micronesia, Fed. Sts.  26.7  26.7  26.7  26.7  26.7  26.7  26.7  26.7   \n",
       "\n",
       "     1808   ...    2010  2011  2012  2013  2014  2015  2016  2017  2018  \\\n",
       "38   31.6   ...    57.5  58.0  58.5  59.3  60.1  60.9  61.6  62.0  62.4   \n",
       "39   32.7   ...    60.4  61.1  61.5  62.0  62.4  62.6  63.0  63.4  63.9   \n",
       "41   31.2   ...    56.3  56.9  57.4  58.1  58.6  59.2  60.0  60.6  61.2   \n",
       "98   36.1   ...    74.0  74.2  74.2  74.3  74.4  74.6  74.9  75.0  75.2   \n",
       "109  26.7   ...    65.4  65.4  65.6  65.6  65.5  65.3  65.6  65.7  65.8   \n",
       "\n",
       "     region  \n",
       "38           \n",
       "39           \n",
       "41           \n",
       "98           \n",
       "109          \n",
       "\n",
       "[5 rows x 221 columns]"
      ]
     },
     "execution_count": 12,
     "metadata": {},
     "output_type": "execute_result"
    }
   ],
   "source": [
    "df_life.query(\"region==''\")"
   ]
  },
  {
   "cell_type": "markdown",
   "metadata": {},
   "source": [
    "These countries may not be in the country lists or could not matched. Manually assign their regions "
   ]
  },
  {
   "cell_type": "code",
   "execution_count": 13,
   "metadata": {
    "collapsed": true
   },
   "outputs": [],
   "source": [
    "df_life.loc[[38,39,41],['region']]=\"Africa\"\n",
    "df_life.loc[98,['region']]=\"Europe\"\n",
    "df_life.loc[109,['region']]=\"Oceania\""
   ]
  },
  {
   "cell_type": "markdown",
   "metadata": {},
   "source": [
    "Double check the countries without region assigned"
   ]
  },
  {
   "cell_type": "code",
   "execution_count": 14,
   "metadata": {},
   "outputs": [
    {
     "data": {
      "text/html": [
       "<div>\n",
       "<style scoped>\n",
       "    .dataframe tbody tr th:only-of-type {\n",
       "        vertical-align: middle;\n",
       "    }\n",
       "\n",
       "    .dataframe tbody tr th {\n",
       "        vertical-align: top;\n",
       "    }\n",
       "\n",
       "    .dataframe thead th {\n",
       "        text-align: right;\n",
       "    }\n",
       "</style>\n",
       "<table border=\"1\" class=\"dataframe\">\n",
       "  <thead>\n",
       "    <tr style=\"text-align: right;\">\n",
       "      <th></th>\n",
       "      <th>geo</th>\n",
       "      <th>1800</th>\n",
       "      <th>1801</th>\n",
       "      <th>1802</th>\n",
       "      <th>1803</th>\n",
       "      <th>1804</th>\n",
       "      <th>1805</th>\n",
       "      <th>1806</th>\n",
       "      <th>1807</th>\n",
       "      <th>1808</th>\n",
       "      <th>...</th>\n",
       "      <th>2010</th>\n",
       "      <th>2011</th>\n",
       "      <th>2012</th>\n",
       "      <th>2013</th>\n",
       "      <th>2014</th>\n",
       "      <th>2015</th>\n",
       "      <th>2016</th>\n",
       "      <th>2017</th>\n",
       "      <th>2018</th>\n",
       "      <th>region</th>\n",
       "    </tr>\n",
       "  </thead>\n",
       "  <tbody>\n",
       "  </tbody>\n",
       "</table>\n",
       "<p>0 rows × 221 columns</p>\n",
       "</div>"
      ],
      "text/plain": [
       "Empty DataFrame\n",
       "Columns: [geo, 1800, 1801, 1802, 1803, 1804, 1805, 1806, 1807, 1808, 1809, 1810, 1811, 1812, 1813, 1814, 1815, 1816, 1817, 1818, 1819, 1820, 1821, 1822, 1823, 1824, 1825, 1826, 1827, 1828, 1829, 1830, 1831, 1832, 1833, 1834, 1835, 1836, 1837, 1838, 1839, 1840, 1841, 1842, 1843, 1844, 1845, 1846, 1847, 1848, 1849, 1850, 1851, 1852, 1853, 1854, 1855, 1856, 1857, 1858, 1859, 1860, 1861, 1862, 1863, 1864, 1865, 1866, 1867, 1868, 1869, 1870, 1871, 1872, 1873, 1874, 1875, 1876, 1877, 1878, 1879, 1880, 1881, 1882, 1883, 1884, 1885, 1886, 1887, 1888, 1889, 1890, 1891, 1892, 1893, 1894, 1895, 1896, 1897, 1898, ...]\n",
       "Index: []\n",
       "\n",
       "[0 rows x 221 columns]"
      ]
     },
     "execution_count": 14,
     "metadata": {},
     "output_type": "execute_result"
    }
   ],
   "source": [
    "df_life.query(\"region==''\")"
   ]
  },
  {
   "cell_type": "markdown",
   "metadata": {},
   "source": [
    "Calculus mean by region and assign to a new dataframe for later purposes "
   ]
  },
  {
   "cell_type": "code",
   "execution_count": 15,
   "metadata": {
    "collapsed": true
   },
   "outputs": [],
   "source": [
    "dflm=df_life.groupby('region').mean()"
   ]
  },
  {
   "cell_type": "markdown",
   "metadata": {},
   "source": [
    "Draw the line graph of the average life expectancy for each region. The dataframe is transposed first to get the right format for the drawing "
   ]
  },
  {
   "cell_type": "code",
   "execution_count": 16,
   "metadata": {},
   "outputs": [
    {
     "data": {
      "image/png": "[encoded data removed]",
      "text/plain": [
       "<matplotlib.figure.Figure at 0x1a105fbf28>"
      ]
     },
     "metadata": {},
     "output_type": "display_data"
    }
   ],
   "source": [
    "np.transpose(dflm).plot(kind='line')\n",
    "plt.xticks(np.arange(len(dflm.columns), step=len(dflm.columns)/15), dflm.columns[::round(len(dflm.columns)/15)],rotation='vertical')\n",
    "plt.grid()\n",
    "plt.xlabel('Year')\n",
    "plt.ylabel('Year of life')\n",
    "plt.title('Average life expectancy')\n",
    "plt.show()"
   ]
  },
  {
   "cell_type": "markdown",
   "metadata": {},
   "source": [
    "### Answer research question 1\n",
    "In general, the life expectancy around the world has incresed over the preriod shown.  \n",
    "The increasing rate in 20th century is higher than that of 19th century   \n",
    "♦ Life expectancy of European countries has been growing and far better than the rest  \n",
    "♦ There are two periods that the life expectancy of the European countries had decreased, which are the 1920s and 1940s"
   ]
  },
  {
   "cell_type": "markdown",
   "metadata": {
    "collapsed": true
   },
   "source": [
    "**Note**  \n",
    "For this dataset, the NULL values have a minor impact to the trend because the selected values are average ones.  \n",
    "For the studying purpose, the NULL values are going to be replaced by MEAN of other COUNTRIES in the same REGION and in the same YEAR. Then another graph with NULL values replaced is drew to compare with the previous graph "
   ]
  },
  {
   "cell_type": "markdown",
   "metadata": {},
   "source": [
    "Separate the main dataframes to 5 sub-dataframes by region"
   ]
  },
  {
   "cell_type": "code",
   "execution_count": 17,
   "metadata": {
    "collapsed": true
   },
   "outputs": [],
   "source": [
    "dflaf=df_life.query('region==\"Africa\"')\n",
    "dflas=df_life.query('region==\"Asia\"')\n",
    "dfleu=df_life.query('region==\"Europe\"')\n",
    "dflam=df_life.query('region==\"America\"')\n",
    "dfloc=df_life.query('region==\"Oceania\"')"
   ]
  },
  {
   "cell_type": "markdown",
   "metadata": {},
   "source": [
    "Check which dataframes contains null values"
   ]
  },
  {
   "cell_type": "code",
   "execution_count": 18,
   "metadata": {},
   "outputs": [
    {
     "data": {
      "text/plain": [
       "(0, 0, 172, 172, 172)"
      ]
     },
     "execution_count": 18,
     "metadata": {},
     "output_type": "execute_result"
    }
   ],
   "source": [
    "sum(dflaf.isnull().any()),sum(dflas.isnull().any()),sum(dfleu.isnull().any()),sum(dflam.isnull().any()),sum(dfloc.isnull().any())"
   ]
  },
  {
   "cell_type": "markdown",
   "metadata": {},
   "source": [
    "Replace the Null values by MEAN of other COUNTRIES in the same REGION and in the same YEAR"
   ]
  },
  {
   "cell_type": "code",
   "execution_count": 19,
   "metadata": {},
   "outputs": [
    {
     "name": "stderr",
     "output_type": "stream",
     "text": [
      "/Users/doanphuonglan/anaconda3/lib/python3.6/site-packages/pandas/core/generic.py:4355: SettingWithCopyWarning: \n",
      "A value is trying to be set on a copy of a slice from a DataFrame\n",
      "\n",
      "See the caveats in the documentation: http://pandas.pydata.org/pandas-docs/stable/indexing.html#indexing-view-versus-copy\n",
      "  self._update_inplace(new_data)\n"
     ]
    }
   ],
   "source": [
    "for i in dfleu.columns[1:-1]:\n",
    "    dfleu[i].fillna(dfleu.mean().loc[i], inplace=True)\n"
   ]
  },
  {
   "cell_type": "code",
   "execution_count": 21,
   "metadata": {},
   "outputs": [
    {
     "name": "stderr",
     "output_type": "stream",
     "text": [
      "/Users/doanphuonglan/anaconda3/lib/python3.6/site-packages/pandas/core/generic.py:4355: SettingWithCopyWarning: \n",
      "A value is trying to be set on a copy of a slice from a DataFrame\n",
      "\n",
      "See the caveats in the documentation: http://pandas.pydata.org/pandas-docs/stable/indexing.html#indexing-view-versus-copy\n",
      "  self._update_inplace(new_data)\n"
     ]
    }
   ],
   "source": [
    "for i in dflam.columns[1:-1]:\n",
    "    dflam[i].fillna(dflam.mean().loc[i], inplace=True)\n"
   ]
  },
  {
   "cell_type": "code",
   "execution_count": 22,
   "metadata": {},
   "outputs": [
    {
     "name": "stderr",
     "output_type": "stream",
     "text": [
      "/Users/doanphuonglan/anaconda3/lib/python3.6/site-packages/pandas/core/generic.py:4355: SettingWithCopyWarning: \n",
      "A value is trying to be set on a copy of a slice from a DataFrame\n",
      "\n",
      "See the caveats in the documentation: http://pandas.pydata.org/pandas-docs/stable/indexing.html#indexing-view-versus-copy\n",
      "  self._update_inplace(new_data)\n"
     ]
    }
   ],
   "source": [
    "for i in dfloc.columns[1:-1]:\n",
    "    dfloc[i].fillna(dfloc.mean().loc[i], inplace=True)\n"
   ]
  },
  {
   "cell_type": "markdown",
   "metadata": {},
   "source": [
    "Check which dataframes contains null values"
   ]
  },
  {
   "cell_type": "code",
   "execution_count": 23,
   "metadata": {},
   "outputs": [
    {
     "data": {
      "text/plain": [
       "(0, 0, 0, 0, 0)"
      ]
     },
     "execution_count": 23,
     "metadata": {},
     "output_type": "execute_result"
    }
   ],
   "source": [
    "sum(dflaf.isnull().any()),sum(dflas.isnull().any()),sum(dfleu.isnull().any()),sum(dflam.isnull().any()),sum(dfloc.isnull().any())"
   ]
  },
  {
   "cell_type": "markdown",
   "metadata": {},
   "source": [
    "Combine these dataframe to a single one"
   ]
  },
  {
   "cell_type": "code",
   "execution_count": 24,
   "metadata": {
    "collapsed": true
   },
   "outputs": [],
   "source": [
    "df_life_edited=dflaf.append([dflas,dfleu,dflam,dfloc],ignore_index=True)"
   ]
  },
  {
   "cell_type": "markdown",
   "metadata": {},
   "source": [
    "Compare the new dataframes vs the old one to see if they are the same"
   ]
  },
  {
   "cell_type": "code",
   "execution_count": 25,
   "metadata": {},
   "outputs": [
    {
     "name": "stdout",
     "output_type": "stream",
     "text": [
      "<class 'pandas.core.frame.DataFrame'>\n",
      "RangeIndex: 187 entries, 0 to 186\n",
      "Columns: 221 entries, geo to region\n",
      "dtypes: float64(219), object(2)\n",
      "memory usage: 322.9+ KB\n"
     ]
    }
   ],
   "source": [
    "df_life.info()"
   ]
  },
  {
   "cell_type": "code",
   "execution_count": 26,
   "metadata": {},
   "outputs": [
    {
     "name": "stdout",
     "output_type": "stream",
     "text": [
      "<class 'pandas.core.frame.DataFrame'>\n",
      "RangeIndex: 187 entries, 0 to 186\n",
      "Columns: 221 entries, geo to region\n",
      "dtypes: float64(219), object(2)\n",
      "memory usage: 322.9+ KB\n"
     ]
    }
   ],
   "source": [
    "df_life_edited.info()"
   ]
  },
  {
   "cell_type": "markdown",
   "metadata": {},
   "source": [
    "Redraw the line graph of the average life expectancy for each region to compare with the previous graph. Expected no difference"
   ]
  },
  {
   "cell_type": "code",
   "execution_count": 129,
   "metadata": {},
   "outputs": [
    {
     "data": {
      "image/png": "[encoded data removed]",
      "text/plain": [
       "<matplotlib.figure.Figure at 0x1a1b0612b0>"
      ]
     },
     "metadata": {},
     "output_type": "display_data"
    }
   ],
   "source": [
    "dflm_edited=df_life_edited.groupby('region').mean()\n",
    "np.transpose(dflm_edited).plot(kind='line')\n",
    "plt.xticks(np.arange(len(dflm_edited.columns), step=len(dflm_edited.columns)/15), dflm_edited.columns[::round(len(dflm_edited.columns)/15)],rotation='vertical')\n",
    "plt.grid()\n",
    "plt.xlabel('Year')\n",
    "plt.ylabel('Year of life')\n",
    "plt.title('Average life expectancy')\n",
    "plt.show()"
   ]
  },
  {
   "cell_type": "markdown",
   "metadata": {},
   "source": [
    "### Research question 2    \n",
    "In general, what does the number of babies per woman around the world look like?\n"
   ]
  },
  {
   "cell_type": "markdown",
   "metadata": {},
   "source": [
    "The similar method employed for the life expectancy dataset is used for this dataset"
   ]
  },
  {
   "cell_type": "code",
   "execution_count": 130,
   "metadata": {
    "collapsed": true
   },
   "outputs": [],
   "source": [
    "import pandas as pd\n",
    "import numpy as np\n",
    "import seaborn as sns\n",
    "import matplotlib.pyplot as plt\n",
    "%matplotlib inline\n",
    "df_baby= pd.read_csv('children_per_woman_total_fertility.csv')"
   ]
  },
  {
   "cell_type": "code",
   "execution_count": 131,
   "metadata": {},
   "outputs": [
    {
     "data": {
      "text/html": [
       "<div>\n",
       "<style scoped>\n",
       "    .dataframe tbody tr th:only-of-type {\n",
       "        vertical-align: middle;\n",
       "    }\n",
       "\n",
       "    .dataframe tbody tr th {\n",
       "        vertical-align: top;\n",
       "    }\n",
       "\n",
       "    .dataframe thead th {\n",
       "        text-align: right;\n",
       "    }\n",
       "</style>\n",
       "<table border=\"1\" class=\"dataframe\">\n",
       "  <thead>\n",
       "    <tr style=\"text-align: right;\">\n",
       "      <th></th>\n",
       "      <th>geo</th>\n",
       "      <th>1800</th>\n",
       "      <th>1801</th>\n",
       "      <th>1802</th>\n",
       "      <th>1803</th>\n",
       "      <th>1804</th>\n",
       "      <th>1805</th>\n",
       "      <th>1806</th>\n",
       "      <th>1807</th>\n",
       "      <th>1808</th>\n",
       "      <th>...</th>\n",
       "      <th>2009</th>\n",
       "      <th>2010</th>\n",
       "      <th>2011</th>\n",
       "      <th>2012</th>\n",
       "      <th>2013</th>\n",
       "      <th>2014</th>\n",
       "      <th>2015</th>\n",
       "      <th>2016</th>\n",
       "      <th>2017</th>\n",
       "      <th>2018</th>\n",
       "    </tr>\n",
       "  </thead>\n",
       "  <tbody>\n",
       "    <tr>\n",
       "      <th>0</th>\n",
       "      <td>Afghanistan</td>\n",
       "      <td>7.0</td>\n",
       "      <td>7.0</td>\n",
       "      <td>7.0</td>\n",
       "      <td>7.0</td>\n",
       "      <td>7.0</td>\n",
       "      <td>7.0</td>\n",
       "      <td>7.0</td>\n",
       "      <td>7.0</td>\n",
       "      <td>7.0</td>\n",
       "      <td>...</td>\n",
       "      <td>6.04</td>\n",
       "      <td>5.82</td>\n",
       "      <td>5.60</td>\n",
       "      <td>5.38</td>\n",
       "      <td>5.17</td>\n",
       "      <td>4.98</td>\n",
       "      <td>4.80</td>\n",
       "      <td>4.64</td>\n",
       "      <td>4.48</td>\n",
       "      <td>4.33</td>\n",
       "    </tr>\n",
       "    <tr>\n",
       "      <th>1</th>\n",
       "      <td>Albania</td>\n",
       "      <td>4.6</td>\n",
       "      <td>4.6</td>\n",
       "      <td>4.6</td>\n",
       "      <td>4.6</td>\n",
       "      <td>4.6</td>\n",
       "      <td>4.6</td>\n",
       "      <td>4.6</td>\n",
       "      <td>4.6</td>\n",
       "      <td>4.6</td>\n",
       "      <td>...</td>\n",
       "      <td>1.65</td>\n",
       "      <td>1.65</td>\n",
       "      <td>1.67</td>\n",
       "      <td>1.69</td>\n",
       "      <td>1.70</td>\n",
       "      <td>1.71</td>\n",
       "      <td>1.71</td>\n",
       "      <td>1.71</td>\n",
       "      <td>1.71</td>\n",
       "      <td>1.71</td>\n",
       "    </tr>\n",
       "  </tbody>\n",
       "</table>\n",
       "<p>2 rows × 220 columns</p>\n",
       "</div>"
      ],
      "text/plain": [
       "           geo  1800  1801  1802  1803  1804  1805  1806  1807  1808  ...   \\\n",
       "0  Afghanistan   7.0   7.0   7.0   7.0   7.0   7.0   7.0   7.0   7.0  ...    \n",
       "1      Albania   4.6   4.6   4.6   4.6   4.6   4.6   4.6   4.6   4.6  ...    \n",
       "\n",
       "   2009  2010  2011  2012  2013  2014  2015  2016  2017  2018  \n",
       "0  6.04  5.82  5.60  5.38  5.17  4.98  4.80  4.64  4.48  4.33  \n",
       "1  1.65  1.65  1.67  1.69  1.70  1.71  1.71  1.71  1.71  1.71  \n",
       "\n",
       "[2 rows x 220 columns]"
      ]
     },
     "execution_count": 131,
     "metadata": {},
     "output_type": "execute_result"
    }
   ],
   "source": [
    "df_baby.head(2)"
   ]
  },
  {
   "cell_type": "code",
   "execution_count": 132,
   "metadata": {},
   "outputs": [
    {
     "name": "stdout",
     "output_type": "stream",
     "text": [
      "<class 'pandas.core.frame.DataFrame'>\n",
      "RangeIndex: 184 entries, 0 to 183\n",
      "Columns: 220 entries, geo to 2018\n",
      "dtypes: float64(219), object(1)\n",
      "memory usage: 316.3+ KB\n"
     ]
    }
   ],
   "source": [
    "df_baby.info()"
   ]
  },
  {
   "cell_type": "code",
   "execution_count": 133,
   "metadata": {},
   "outputs": [
    {
     "data": {
      "text/plain": [
       "geo      object\n",
       "1800    float64\n",
       "dtype: object"
      ]
     },
     "execution_count": 133,
     "metadata": {},
     "output_type": "execute_result"
    }
   ],
   "source": [
    "df_baby.dtypes.head(2)"
   ]
  },
  {
   "cell_type": "code",
   "execution_count": 134,
   "metadata": {},
   "outputs": [
    {
     "data": {
      "text/plain": [
       "0"
      ]
     },
     "execution_count": 134,
     "metadata": {},
     "output_type": "execute_result"
    }
   ],
   "source": [
    "sum(df_baby.isnull().any())"
   ]
  },
  {
   "cell_type": "code",
   "execution_count": 135,
   "metadata": {},
   "outputs": [
    {
     "data": {
      "text/plain": [
       "0"
      ]
     },
     "execution_count": 135,
     "metadata": {},
     "output_type": "execute_result"
    }
   ],
   "source": [
    "sum(df_baby.duplicated())"
   ]
  },
  {
   "cell_type": "code",
   "execution_count": 136,
   "metadata": {
    "collapsed": true
   },
   "outputs": [],
   "source": [
    "df_baby['region']=np.repeat('',df_baby.shape[0])\n",
    "dx_af=pd.read_csv('Africa.txt')\n",
    "dx_as=pd.read_csv('Asia.txt')\n",
    "dx_eu=pd.read_csv('data/Europe.txt')\n",
    "dx_oc=pd.read_csv('Oceania.txt')\n",
    "dx_am=pd.read_csv('America.txt')\n",
    "dx_af=dx_af.values.T.tolist()\n",
    "dx_as=dx_as.values.T.tolist()\n",
    "dx_eu=dx_eu.values.T.tolist()\n",
    "dx_oc=dx_oc.values.T.tolist()\n",
    "dx_am=dx_am.values.T.tolist()\n",
    "df_baby.loc[df_baby['geo'].isin(dx_af[0]),['region']]=\"Africa\"\n",
    "df_baby.loc[df_baby['geo'].isin(dx_as[0]),['region']]=\"Asia\"\n",
    "df_baby.loc[df_baby['geo'].isin(dx_eu[0]),['region']]=\"Europe\"\n",
    "df_baby.loc[df_baby['geo'].isin(dx_oc[0]),['region']]=\"Oceania\"\n",
    "df_baby.loc[df_baby['geo'].isin(dx_am[0]),['region']]=\"America\""
   ]
  },
  {
   "cell_type": "code",
   "execution_count": 137,
   "metadata": {},
   "outputs": [
    {
     "data": {
      "text/plain": [
       "0"
      ]
     },
     "execution_count": 137,
     "metadata": {},
     "output_type": "execute_result"
    }
   ],
   "source": [
    "sum(df_baby.isnull().any())"
   ]
  },
  {
   "cell_type": "code",
   "execution_count": 138,
   "metadata": {},
   "outputs": [
    {
     "data": {
      "text/html": [
       "<div>\n",
       "<style scoped>\n",
       "    .dataframe tbody tr th:only-of-type {\n",
       "        vertical-align: middle;\n",
       "    }\n",
       "\n",
       "    .dataframe tbody tr th {\n",
       "        vertical-align: top;\n",
       "    }\n",
       "\n",
       "    .dataframe thead th {\n",
       "        text-align: right;\n",
       "    }\n",
       "</style>\n",
       "<table border=\"1\" class=\"dataframe\">\n",
       "  <thead>\n",
       "    <tr style=\"text-align: right;\">\n",
       "      <th></th>\n",
       "      <th>geo</th>\n",
       "      <th>1800</th>\n",
       "      <th>1801</th>\n",
       "      <th>1802</th>\n",
       "      <th>1803</th>\n",
       "      <th>1804</th>\n",
       "      <th>1805</th>\n",
       "      <th>1806</th>\n",
       "      <th>1807</th>\n",
       "      <th>1808</th>\n",
       "      <th>...</th>\n",
       "      <th>2010</th>\n",
       "      <th>2011</th>\n",
       "      <th>2012</th>\n",
       "      <th>2013</th>\n",
       "      <th>2014</th>\n",
       "      <th>2015</th>\n",
       "      <th>2016</th>\n",
       "      <th>2017</th>\n",
       "      <th>2018</th>\n",
       "      <th>region</th>\n",
       "    </tr>\n",
       "  </thead>\n",
       "  <tbody>\n",
       "  </tbody>\n",
       "</table>\n",
       "<p>0 rows × 221 columns</p>\n",
       "</div>"
      ],
      "text/plain": [
       "Empty DataFrame\n",
       "Columns: [geo, 1800, 1801, 1802, 1803, 1804, 1805, 1806, 1807, 1808, 1809, 1810, 1811, 1812, 1813, 1814, 1815, 1816, 1817, 1818, 1819, 1820, 1821, 1822, 1823, 1824, 1825, 1826, 1827, 1828, 1829, 1830, 1831, 1832, 1833, 1834, 1835, 1836, 1837, 1838, 1839, 1840, 1841, 1842, 1843, 1844, 1845, 1846, 1847, 1848, 1849, 1850, 1851, 1852, 1853, 1854, 1855, 1856, 1857, 1858, 1859, 1860, 1861, 1862, 1863, 1864, 1865, 1866, 1867, 1868, 1869, 1870, 1871, 1872, 1873, 1874, 1875, 1876, 1877, 1878, 1879, 1880, 1881, 1882, 1883, 1884, 1885, 1886, 1887, 1888, 1889, 1890, 1891, 1892, 1893, 1894, 1895, 1896, 1897, 1898, ...]\n",
       "Index: []\n",
       "\n",
       "[0 rows x 221 columns]"
      ]
     },
     "execution_count": 138,
     "metadata": {},
     "output_type": "execute_result"
    }
   ],
   "source": [
    "df_baby.loc[[37,38,40],['region']]=\"Africa\"\n",
    "df_baby.loc[96,['region']]=\"Europe\"\n",
    "df_baby.loc[106,['region']]=\"Oceania\"\n",
    "df_baby.query(\"region==''\")"
   ]
  },
  {
   "cell_type": "code",
   "execution_count": 139,
   "metadata": {},
   "outputs": [
    {
     "data": {
      "image/png": "[encoded data removed]",
      "text/plain": [
       "<matplotlib.figure.Figure at 0x1a1a731400>"
      ]
     },
     "metadata": {},
     "output_type": "display_data"
    }
   ],
   "source": [
    "df_bm=df_baby.groupby('region').mean()\n",
    "np.transpose(df_bm).plot(kind='line')\n",
    "plt.xticks(np.arange(len(df_bm.columns), step=len(df_bm.columns)/15), df_bm.columns[::round(len(df_bm.columns)/15)],rotation='vertical')\n",
    "plt.grid()\n",
    "plt.xlabel('Year')\n",
    "plt.ylabel('Number of chidren')\n",
    "plt.title('Number of chidren per woman')\n",
    "plt.show()"
   ]
  },
  {
   "cell_type": "code",
   "execution_count": 140,
   "metadata": {
    "collapsed": true
   },
   "outputs": [],
   "source": [
    "df_baby.to_csv('df_baby_edited.csv', index=False)"
   ]
  },
  {
   "cell_type": "markdown",
   "metadata": {},
   "source": [
    "### Answer Research question 2\n",
    "* In general, the number of babies per woman around the world has decreased during the period shown  \n",
    "* These rates had dropped significantly in all the regions since 1960s  \n",
    "* The European always has the lowest rate whereas the African has the highest one"
   ]
  },
  {
   "cell_type": "markdown",
   "metadata": {},
   "source": [
    "### Research question 3  \n",
    "In general, what does the child mortality rate around the world look like?"
   ]
  },
  {
   "cell_type": "markdown",
   "metadata": {},
   "source": [
    "The similar method employed for the life expectancy dataset is used for this dataset"
   ]
  },
  {
   "cell_type": "code",
   "execution_count": 141,
   "metadata": {
    "collapsed": true
   },
   "outputs": [],
   "source": [
    "import pandas as pd\n",
    "import numpy as np\n",
    "import seaborn as sns\n",
    "import matplotlib.pyplot as plt\n",
    "%matplotlib inline\n",
    "df_mortality= pd.read_csv('child_mortality_0_5_year_olds_dying_per_1000_born.csv')"
   ]
  },
  {
   "cell_type": "code",
   "execution_count": 142,
   "metadata": {},
   "outputs": [
    {
     "data": {
      "text/html": [
       "<div>\n",
       "<style scoped>\n",
       "    .dataframe tbody tr th:only-of-type {\n",
       "        vertical-align: middle;\n",
       "    }\n",
       "\n",
       "    .dataframe tbody tr th {\n",
       "        vertical-align: top;\n",
       "    }\n",
       "\n",
       "    .dataframe thead th {\n",
       "        text-align: right;\n",
       "    }\n",
       "</style>\n",
       "<table border=\"1\" class=\"dataframe\">\n",
       "  <thead>\n",
       "    <tr style=\"text-align: right;\">\n",
       "      <th></th>\n",
       "      <th>geo</th>\n",
       "      <th>1800</th>\n",
       "      <th>1801</th>\n",
       "      <th>1802</th>\n",
       "      <th>1803</th>\n",
       "      <th>1804</th>\n",
       "      <th>1805</th>\n",
       "      <th>1806</th>\n",
       "      <th>1807</th>\n",
       "      <th>1808</th>\n",
       "      <th>...</th>\n",
       "      <th>2009</th>\n",
       "      <th>2010</th>\n",
       "      <th>2011</th>\n",
       "      <th>2012</th>\n",
       "      <th>2013</th>\n",
       "      <th>2014</th>\n",
       "      <th>2015</th>\n",
       "      <th>2016</th>\n",
       "      <th>2017</th>\n",
       "      <th>2018</th>\n",
       "    </tr>\n",
       "  </thead>\n",
       "  <tbody>\n",
       "    <tr>\n",
       "      <th>0</th>\n",
       "      <td>Afghanistan</td>\n",
       "      <td>469.0</td>\n",
       "      <td>469.0</td>\n",
       "      <td>469.0</td>\n",
       "      <td>469.0</td>\n",
       "      <td>469.0</td>\n",
       "      <td>469.0</td>\n",
       "      <td>470.0</td>\n",
       "      <td>470.0</td>\n",
       "      <td>470.0</td>\n",
       "      <td>...</td>\n",
       "      <td>94.1</td>\n",
       "      <td>90.2</td>\n",
       "      <td>86.4</td>\n",
       "      <td>82.8</td>\n",
       "      <td>79.3</td>\n",
       "      <td>76.1</td>\n",
       "      <td>73.2</td>\n",
       "      <td>70.4</td>\n",
       "      <td>68.2</td>\n",
       "      <td>65.9</td>\n",
       "    </tr>\n",
       "    <tr>\n",
       "      <th>1</th>\n",
       "      <td>Albania</td>\n",
       "      <td>375.0</td>\n",
       "      <td>375.0</td>\n",
       "      <td>375.0</td>\n",
       "      <td>375.0</td>\n",
       "      <td>375.0</td>\n",
       "      <td>375.0</td>\n",
       "      <td>375.0</td>\n",
       "      <td>375.0</td>\n",
       "      <td>375.0</td>\n",
       "      <td>...</td>\n",
       "      <td>17.2</td>\n",
       "      <td>16.6</td>\n",
       "      <td>16.0</td>\n",
       "      <td>15.4</td>\n",
       "      <td>14.9</td>\n",
       "      <td>14.4</td>\n",
       "      <td>14.0</td>\n",
       "      <td>13.5</td>\n",
       "      <td>13.3</td>\n",
       "      <td>12.9</td>\n",
       "    </tr>\n",
       "  </tbody>\n",
       "</table>\n",
       "<p>2 rows × 220 columns</p>\n",
       "</div>"
      ],
      "text/plain": [
       "           geo   1800   1801   1802   1803   1804   1805   1806   1807   1808  \\\n",
       "0  Afghanistan  469.0  469.0  469.0  469.0  469.0  469.0  470.0  470.0  470.0   \n",
       "1      Albania  375.0  375.0  375.0  375.0  375.0  375.0  375.0  375.0  375.0   \n",
       "\n",
       "   ...   2009  2010  2011  2012  2013  2014  2015  2016  2017  2018  \n",
       "0  ...   94.1  90.2  86.4  82.8  79.3  76.1  73.2  70.4  68.2  65.9  \n",
       "1  ...   17.2  16.6  16.0  15.4  14.9  14.4  14.0  13.5  13.3  12.9  \n",
       "\n",
       "[2 rows x 220 columns]"
      ]
     },
     "execution_count": 142,
     "metadata": {},
     "output_type": "execute_result"
    }
   ],
   "source": [
    "df_mortality.head(2)"
   ]
  },
  {
   "cell_type": "code",
   "execution_count": 143,
   "metadata": {},
   "outputs": [
    {
     "data": {
      "text/plain": [
       "187"
      ]
     },
     "execution_count": 143,
     "metadata": {},
     "output_type": "execute_result"
    }
   ],
   "source": [
    "sum(df_mortality.isnull().any())"
   ]
  },
  {
   "cell_type": "code",
   "execution_count": 144,
   "metadata": {},
   "outputs": [
    {
     "data": {
      "text/plain": [
       "0"
      ]
     },
     "execution_count": 144,
     "metadata": {},
     "output_type": "execute_result"
    }
   ],
   "source": [
    "sum(df_mortality.duplicated())"
   ]
  },
  {
   "cell_type": "code",
   "execution_count": 145,
   "metadata": {},
   "outputs": [
    {
     "data": {
      "text/plain": [
       "geo      object\n",
       "1800    float64\n",
       "dtype: object"
      ]
     },
     "execution_count": 145,
     "metadata": {},
     "output_type": "execute_result"
    }
   ],
   "source": [
    "df_mortality.dtypes.head(2)"
   ]
  },
  {
   "cell_type": "code",
   "execution_count": 146,
   "metadata": {
    "collapsed": true
   },
   "outputs": [],
   "source": [
    "dy_af=pd.read_csv('Africa.txt')\n",
    "dy_as=pd.read_csv('Asia.txt')\n",
    "dy_eu=pd.read_csv('Europe.txt')\n",
    "dy_oc=pd.read_csv('Oceania.txt')\n",
    "dy_am=pd.read_csv('America.txt')\n",
    "dy_af=dy_af.values.T.tolist()\n",
    "dy_as=dy_as.values.T.tolist()\n",
    "dy_eu=dy_eu.values.T.tolist()\n",
    "dy_oc=dy_oc.values.T.tolist()\n",
    "dy_am=dy_am.values.T.tolist()\n",
    "df_mortality['region']=np.repeat('',df_mortality.shape[0])\n",
    "df_mortality.loc[df_mortality['geo'].isin(dy_af[0]),['region']]=\"Africa\"\n",
    "df_mortality.loc[df_mortality['geo'].isin(dy_as[0]),['region']]=\"Asia\"\n",
    "df_mortality.loc[df_mortality['geo'].isin(dy_eu[0]),['region']]=\"Europe\"\n",
    "df_mortality.loc[df_mortality['geo'].isin(dy_oc[0]),['region']]=\"Oceania\"\n",
    "df_mortality.loc[df_mortality['geo'].isin(dy_am[0]),['region']]=\"America\""
   ]
  },
  {
   "cell_type": "code",
   "execution_count": 147,
   "metadata": {},
   "outputs": [
    {
     "data": {
      "text/html": [
       "<div>\n",
       "<style scoped>\n",
       "    .dataframe tbody tr th:only-of-type {\n",
       "        vertical-align: middle;\n",
       "    }\n",
       "\n",
       "    .dataframe tbody tr th {\n",
       "        vertical-align: top;\n",
       "    }\n",
       "\n",
       "    .dataframe thead th {\n",
       "        text-align: right;\n",
       "    }\n",
       "</style>\n",
       "<table border=\"1\" class=\"dataframe\">\n",
       "  <thead>\n",
       "    <tr style=\"text-align: right;\">\n",
       "      <th></th>\n",
       "      <th>geo</th>\n",
       "      <th>1800</th>\n",
       "      <th>1801</th>\n",
       "      <th>1802</th>\n",
       "      <th>1803</th>\n",
       "      <th>1804</th>\n",
       "      <th>1805</th>\n",
       "      <th>1806</th>\n",
       "      <th>1807</th>\n",
       "      <th>1808</th>\n",
       "      <th>...</th>\n",
       "      <th>2010</th>\n",
       "      <th>2011</th>\n",
       "      <th>2012</th>\n",
       "      <th>2013</th>\n",
       "      <th>2014</th>\n",
       "      <th>2015</th>\n",
       "      <th>2016</th>\n",
       "      <th>2017</th>\n",
       "      <th>2018</th>\n",
       "      <th>region</th>\n",
       "    </tr>\n",
       "  </thead>\n",
       "  <tbody>\n",
       "    <tr>\n",
       "      <th>38</th>\n",
       "      <td>Congo, Dem. Rep.</td>\n",
       "      <td>423.0</td>\n",
       "      <td>423.0</td>\n",
       "      <td>423.0</td>\n",
       "      <td>423.0</td>\n",
       "      <td>423.0</td>\n",
       "      <td>423.0</td>\n",
       "      <td>423.0</td>\n",
       "      <td>423.0</td>\n",
       "      <td>423.0</td>\n",
       "      <td>...</td>\n",
       "      <td>116.0</td>\n",
       "      <td>112.0</td>\n",
       "      <td>108.0</td>\n",
       "      <td>104.0</td>\n",
       "      <td>101.0</td>\n",
       "      <td>97.6</td>\n",
       "      <td>94.3</td>\n",
       "      <td>92.5</td>\n",
       "      <td>90.0</td>\n",
       "      <td></td>\n",
       "    </tr>\n",
       "    <tr>\n",
       "      <th>39</th>\n",
       "      <td>Congo, Rep.</td>\n",
       "      <td>409.0</td>\n",
       "      <td>409.0</td>\n",
       "      <td>409.0</td>\n",
       "      <td>409.0</td>\n",
       "      <td>409.0</td>\n",
       "      <td>409.0</td>\n",
       "      <td>409.0</td>\n",
       "      <td>409.0</td>\n",
       "      <td>409.0</td>\n",
       "      <td>...</td>\n",
       "      <td>63.9</td>\n",
       "      <td>61.3</td>\n",
       "      <td>59.2</td>\n",
       "      <td>57.7</td>\n",
       "      <td>56.5</td>\n",
       "      <td>55.4</td>\n",
       "      <td>54.1</td>\n",
       "      <td>51.3</td>\n",
       "      <td>49.7</td>\n",
       "      <td></td>\n",
       "    </tr>\n",
       "    <tr>\n",
       "      <th>41</th>\n",
       "      <td>Cote d'Ivoire</td>\n",
       "      <td>428.0</td>\n",
       "      <td>428.0</td>\n",
       "      <td>428.0</td>\n",
       "      <td>428.0</td>\n",
       "      <td>428.0</td>\n",
       "      <td>428.0</td>\n",
       "      <td>428.0</td>\n",
       "      <td>428.0</td>\n",
       "      <td>428.0</td>\n",
       "      <td>...</td>\n",
       "      <td>111.0</td>\n",
       "      <td>108.0</td>\n",
       "      <td>105.0</td>\n",
       "      <td>102.0</td>\n",
       "      <td>98.3</td>\n",
       "      <td>95.1</td>\n",
       "      <td>91.8</td>\n",
       "      <td>87.5</td>\n",
       "      <td>84.2</td>\n",
       "      <td></td>\n",
       "    </tr>\n",
       "    <tr>\n",
       "      <th>98</th>\n",
       "      <td>Macedonia, FYR</td>\n",
       "      <td>397.0</td>\n",
       "      <td>397.0</td>\n",
       "      <td>396.0</td>\n",
       "      <td>396.0</td>\n",
       "      <td>396.0</td>\n",
       "      <td>396.0</td>\n",
       "      <td>396.0</td>\n",
       "      <td>396.0</td>\n",
       "      <td>396.0</td>\n",
       "      <td>...</td>\n",
       "      <td>10.4</td>\n",
       "      <td>10.2</td>\n",
       "      <td>10.3</td>\n",
       "      <td>10.8</td>\n",
       "      <td>11.5</td>\n",
       "      <td>12.0</td>\n",
       "      <td>12.2</td>\n",
       "      <td>11.5</td>\n",
       "      <td>11.2</td>\n",
       "      <td></td>\n",
       "    </tr>\n",
       "    <tr>\n",
       "      <th>109</th>\n",
       "      <td>Micronesia, Fed. Sts.</td>\n",
       "      <td>451.0</td>\n",
       "      <td>448.0</td>\n",
       "      <td>445.0</td>\n",
       "      <td>442.0</td>\n",
       "      <td>439.0</td>\n",
       "      <td>436.0</td>\n",
       "      <td>433.0</td>\n",
       "      <td>430.0</td>\n",
       "      <td>427.0</td>\n",
       "      <td>...</td>\n",
       "      <td>40.0</td>\n",
       "      <td>38.8</td>\n",
       "      <td>37.7</td>\n",
       "      <td>36.5</td>\n",
       "      <td>35.4</td>\n",
       "      <td>34.3</td>\n",
       "      <td>33.3</td>\n",
       "      <td>33.3</td>\n",
       "      <td>32.8</td>\n",
       "      <td></td>\n",
       "    </tr>\n",
       "  </tbody>\n",
       "</table>\n",
       "<p>5 rows × 221 columns</p>\n",
       "</div>"
      ],
      "text/plain": [
       "                       geo   1800   1801   1802   1803   1804   1805   1806  \\\n",
       "38        Congo, Dem. Rep.  423.0  423.0  423.0  423.0  423.0  423.0  423.0   \n",
       "39             Congo, Rep.  409.0  409.0  409.0  409.0  409.0  409.0  409.0   \n",
       "41           Cote d'Ivoire  428.0  428.0  428.0  428.0  428.0  428.0  428.0   \n",
       "98          Macedonia, FYR  397.0  397.0  396.0  396.0  396.0  396.0  396.0   \n",
       "109  Micronesia, Fed. Sts.  451.0  448.0  445.0  442.0  439.0  436.0  433.0   \n",
       "\n",
       "      1807   1808   ...     2010   2011   2012   2013   2014  2015  2016  \\\n",
       "38   423.0  423.0   ...    116.0  112.0  108.0  104.0  101.0  97.6  94.3   \n",
       "39   409.0  409.0   ...     63.9   61.3   59.2   57.7   56.5  55.4  54.1   \n",
       "41   428.0  428.0   ...    111.0  108.0  105.0  102.0   98.3  95.1  91.8   \n",
       "98   396.0  396.0   ...     10.4   10.2   10.3   10.8   11.5  12.0  12.2   \n",
       "109  430.0  427.0   ...     40.0   38.8   37.7   36.5   35.4  34.3  33.3   \n",
       "\n",
       "     2017  2018  region  \n",
       "38   92.5  90.0          \n",
       "39   51.3  49.7          \n",
       "41   87.5  84.2          \n",
       "98   11.5  11.2          \n",
       "109  33.3  32.8          \n",
       "\n",
       "[5 rows x 221 columns]"
      ]
     },
     "execution_count": 147,
     "metadata": {},
     "output_type": "execute_result"
    }
   ],
   "source": [
    "df_mortality.query(\"region==''\")"
   ]
  },
  {
   "cell_type": "code",
   "execution_count": 148,
   "metadata": {
    "collapsed": true
   },
   "outputs": [],
   "source": [
    "df_mortality.loc[[38,39,41],['region']]=\"Africa\"\n",
    "df_mortality.loc[98,['region']]=\"Europe\"\n",
    "df_mortality.loc[109,['region']]=\"Oceania\""
   ]
  },
  {
   "cell_type": "code",
   "execution_count": 149,
   "metadata": {},
   "outputs": [
    {
     "data": {
      "text/html": [
       "<div>\n",
       "<style scoped>\n",
       "    .dataframe tbody tr th:only-of-type {\n",
       "        vertical-align: middle;\n",
       "    }\n",
       "\n",
       "    .dataframe tbody tr th {\n",
       "        vertical-align: top;\n",
       "    }\n",
       "\n",
       "    .dataframe thead th {\n",
       "        text-align: right;\n",
       "    }\n",
       "</style>\n",
       "<table border=\"1\" class=\"dataframe\">\n",
       "  <thead>\n",
       "    <tr style=\"text-align: right;\">\n",
       "      <th></th>\n",
       "      <th>geo</th>\n",
       "      <th>1800</th>\n",
       "      <th>1801</th>\n",
       "      <th>1802</th>\n",
       "      <th>1803</th>\n",
       "      <th>1804</th>\n",
       "      <th>1805</th>\n",
       "      <th>1806</th>\n",
       "      <th>1807</th>\n",
       "      <th>1808</th>\n",
       "      <th>...</th>\n",
       "      <th>2010</th>\n",
       "      <th>2011</th>\n",
       "      <th>2012</th>\n",
       "      <th>2013</th>\n",
       "      <th>2014</th>\n",
       "      <th>2015</th>\n",
       "      <th>2016</th>\n",
       "      <th>2017</th>\n",
       "      <th>2018</th>\n",
       "      <th>region</th>\n",
       "    </tr>\n",
       "  </thead>\n",
       "  <tbody>\n",
       "  </tbody>\n",
       "</table>\n",
       "<p>0 rows × 221 columns</p>\n",
       "</div>"
      ],
      "text/plain": [
       "Empty DataFrame\n",
       "Columns: [geo, 1800, 1801, 1802, 1803, 1804, 1805, 1806, 1807, 1808, 1809, 1810, 1811, 1812, 1813, 1814, 1815, 1816, 1817, 1818, 1819, 1820, 1821, 1822, 1823, 1824, 1825, 1826, 1827, 1828, 1829, 1830, 1831, 1832, 1833, 1834, 1835, 1836, 1837, 1838, 1839, 1840, 1841, 1842, 1843, 1844, 1845, 1846, 1847, 1848, 1849, 1850, 1851, 1852, 1853, 1854, 1855, 1856, 1857, 1858, 1859, 1860, 1861, 1862, 1863, 1864, 1865, 1866, 1867, 1868, 1869, 1870, 1871, 1872, 1873, 1874, 1875, 1876, 1877, 1878, 1879, 1880, 1881, 1882, 1883, 1884, 1885, 1886, 1887, 1888, 1889, 1890, 1891, 1892, 1893, 1894, 1895, 1896, 1897, 1898, ...]\n",
       "Index: []\n",
       "\n",
       "[0 rows x 221 columns]"
      ]
     },
     "execution_count": 149,
     "metadata": {},
     "output_type": "execute_result"
    }
   ],
   "source": [
    "df_mortality.query(\"region==''\")"
   ]
  },
  {
   "cell_type": "code",
   "execution_count": 150,
   "metadata": {},
   "outputs": [
    {
     "data": {
      "image/png": "[encoded data removed]",
      "text/plain": [
       "<matplotlib.figure.Figure at 0x1a1b4ae208>"
      ]
     },
     "metadata": {},
     "output_type": "display_data"
    }
   ],
   "source": [
    "df_mm=df_mortality.groupby('region').mean()\n",
    "np.transpose(df_mm).plot(kind='line')\n",
    "plt.xticks(np.arange(len(df_mm.columns), step=len(df_mm.columns)/15), df_mm.columns[::round(len(df_mm.columns)/15)],rotation='vertical')\n",
    "plt.grid()\n",
    "plt.xlabel('Year')\n",
    "plt.ylabel('Number of chidren')\n",
    "plt.title('Number of chidren mortality')\n",
    "plt.show()"
   ]
  },
  {
   "cell_type": "code",
   "execution_count": 151,
   "metadata": {
    "collapsed": true
   },
   "outputs": [],
   "source": [
    "df_mortality.to_csv('df_mortality_edited.csv', index=False)"
   ]
  },
  {
   "cell_type": "markdown",
   "metadata": {},
   "source": [
    "### Answer Research question 3\n",
    "* In general, the number of children mortality rate around the world has decreased during the period shown  \n",
    "* These rates had dropped significantly in all the regions since 1920s  \n",
    "* The European has the lowest rate most of the time whereas the African has the highest one"
   ]
  },
  {
   "cell_type": "markdown",
   "metadata": {},
   "source": [
    "### Research question 4\n",
    "In general, what does the amount of CO2 emissions around the world look like?"
   ]
  },
  {
   "cell_type": "markdown",
   "metadata": {},
   "source": [
    "The similar method employed for the life expectancy dataset is used for this dataset"
   ]
  },
  {
   "cell_type": "code",
   "execution_count": 152,
   "metadata": {
    "collapsed": true
   },
   "outputs": [],
   "source": [
    "import pandas as pd\n",
    "import numpy as np\n",
    "import seaborn as sns\n",
    "import matplotlib.pyplot as plt\n",
    "%matplotlib inline\n",
    "df_co2= pd.read_csv('co2_emissions_tonnes_per_person.csv')"
   ]
  },
  {
   "cell_type": "code",
   "execution_count": 153,
   "metadata": {},
   "outputs": [
    {
     "data": {
      "text/plain": [
       "(192, 216)"
      ]
     },
     "execution_count": 153,
     "metadata": {},
     "output_type": "execute_result"
    }
   ],
   "source": [
    "df_co2.shape"
   ]
  },
  {
   "cell_type": "code",
   "execution_count": 154,
   "metadata": {},
   "outputs": [
    {
     "data": {
      "text/plain": [
       "212"
      ]
     },
     "execution_count": 154,
     "metadata": {},
     "output_type": "execute_result"
    }
   ],
   "source": [
    "sum(df_co2.isnull().any())"
   ]
  },
  {
   "cell_type": "code",
   "execution_count": 155,
   "metadata": {},
   "outputs": [
    {
     "data": {
      "text/plain": [
       "0"
      ]
     },
     "execution_count": 155,
     "metadata": {},
     "output_type": "execute_result"
    }
   ],
   "source": [
    "sum(df_co2.duplicated())"
   ]
  },
  {
   "cell_type": "code",
   "execution_count": 156,
   "metadata": {},
   "outputs": [
    {
     "data": {
      "text/html": [
       "<div>\n",
       "<style scoped>\n",
       "    .dataframe tbody tr th:only-of-type {\n",
       "        vertical-align: middle;\n",
       "    }\n",
       "\n",
       "    .dataframe tbody tr th {\n",
       "        vertical-align: top;\n",
       "    }\n",
       "\n",
       "    .dataframe thead th {\n",
       "        text-align: right;\n",
       "    }\n",
       "</style>\n",
       "<table border=\"1\" class=\"dataframe\">\n",
       "  <thead>\n",
       "    <tr style=\"text-align: right;\">\n",
       "      <th></th>\n",
       "      <th>1800</th>\n",
       "      <th>1801</th>\n",
       "      <th>1802</th>\n",
       "      <th>1803</th>\n",
       "      <th>1804</th>\n",
       "      <th>1805</th>\n",
       "      <th>1806</th>\n",
       "      <th>1807</th>\n",
       "      <th>1808</th>\n",
       "      <th>1809</th>\n",
       "      <th>...</th>\n",
       "      <th>2005</th>\n",
       "      <th>2006</th>\n",
       "      <th>2007</th>\n",
       "      <th>2008</th>\n",
       "      <th>2009</th>\n",
       "      <th>2010</th>\n",
       "      <th>2011</th>\n",
       "      <th>2012</th>\n",
       "      <th>2013</th>\n",
       "      <th>2014</th>\n",
       "    </tr>\n",
       "  </thead>\n",
       "  <tbody>\n",
       "    <tr>\n",
       "      <th>count</th>\n",
       "      <td>5.000000</td>\n",
       "      <td>5.000000</td>\n",
       "      <td>7.000000</td>\n",
       "      <td>5.000000</td>\n",
       "      <td>6.000000</td>\n",
       "      <td>5.000000</td>\n",
       "      <td>5.000000</td>\n",
       "      <td>6.000000</td>\n",
       "      <td>5.000000</td>\n",
       "      <td>5.000000</td>\n",
       "      <td>...</td>\n",
       "      <td>190.000000</td>\n",
       "      <td>190.000000</td>\n",
       "      <td>191.000000</td>\n",
       "      <td>191.000000</td>\n",
       "      <td>191.000000</td>\n",
       "      <td>191.000000</td>\n",
       "      <td>191.000000</td>\n",
       "      <td>192.000000</td>\n",
       "      <td>192.000000</td>\n",
       "      <td>192.000000</td>\n",
       "    </tr>\n",
       "    <tr>\n",
       "      <th>mean</th>\n",
       "      <td>0.456096</td>\n",
       "      <td>0.450782</td>\n",
       "      <td>0.620493</td>\n",
       "      <td>0.495536</td>\n",
       "      <td>0.425787</td>\n",
       "      <td>0.510852</td>\n",
       "      <td>0.528458</td>\n",
       "      <td>0.454672</td>\n",
       "      <td>0.516694</td>\n",
       "      <td>0.510382</td>\n",
       "      <td>...</td>\n",
       "      <td>4.632572</td>\n",
       "      <td>4.696715</td>\n",
       "      <td>4.700221</td>\n",
       "      <td>4.720091</td>\n",
       "      <td>4.506879</td>\n",
       "      <td>4.604666</td>\n",
       "      <td>4.550413</td>\n",
       "      <td>4.526914</td>\n",
       "      <td>4.465214</td>\n",
       "      <td>4.440085</td>\n",
       "    </tr>\n",
       "    <tr>\n",
       "      <th>std</th>\n",
       "      <td>0.952620</td>\n",
       "      <td>0.944430</td>\n",
       "      <td>0.994357</td>\n",
       "      <td>1.042398</td>\n",
       "      <td>0.938020</td>\n",
       "      <td>1.056255</td>\n",
       "      <td>1.102275</td>\n",
       "      <td>0.987935</td>\n",
       "      <td>1.075319</td>\n",
       "      <td>1.062071</td>\n",
       "      <td>...</td>\n",
       "      <td>6.738075</td>\n",
       "      <td>6.943929</td>\n",
       "      <td>6.706373</td>\n",
       "      <td>6.494926</td>\n",
       "      <td>6.157124</td>\n",
       "      <td>6.175062</td>\n",
       "      <td>6.099754</td>\n",
       "      <td>6.145365</td>\n",
       "      <td>5.861904</td>\n",
       "      <td>6.065368</td>\n",
       "    </tr>\n",
       "    <tr>\n",
       "      <th>min</th>\n",
       "      <td>0.005680</td>\n",
       "      <td>0.005610</td>\n",
       "      <td>0.005550</td>\n",
       "      <td>0.005480</td>\n",
       "      <td>0.005420</td>\n",
       "      <td>0.005360</td>\n",
       "      <td>0.005290</td>\n",
       "      <td>0.005230</td>\n",
       "      <td>0.005170</td>\n",
       "      <td>0.005110</td>\n",
       "      <td>...</td>\n",
       "      <td>0.020800</td>\n",
       "      <td>0.024400</td>\n",
       "      <td>0.023600</td>\n",
       "      <td>0.023200</td>\n",
       "      <td>0.022500</td>\n",
       "      <td>0.024300</td>\n",
       "      <td>0.026800</td>\n",
       "      <td>0.030300</td>\n",
       "      <td>0.030200</td>\n",
       "      <td>0.044500</td>\n",
       "    </tr>\n",
       "    <tr>\n",
       "      <th>25%</th>\n",
       "      <td>0.034800</td>\n",
       "      <td>0.023300</td>\n",
       "      <td>0.032500</td>\n",
       "      <td>0.023100</td>\n",
       "      <td>0.043825</td>\n",
       "      <td>0.044500</td>\n",
       "      <td>0.040000</td>\n",
       "      <td>0.041025</td>\n",
       "      <td>0.037900</td>\n",
       "      <td>0.039200</td>\n",
       "      <td>...</td>\n",
       "      <td>0.630250</td>\n",
       "      <td>0.611500</td>\n",
       "      <td>0.595500</td>\n",
       "      <td>0.587500</td>\n",
       "      <td>0.540500</td>\n",
       "      <td>0.607000</td>\n",
       "      <td>0.636500</td>\n",
       "      <td>0.613750</td>\n",
       "      <td>0.669500</td>\n",
       "      <td>0.659000</td>\n",
       "    </tr>\n",
       "    <tr>\n",
       "      <th>50%</th>\n",
       "      <td>0.037200</td>\n",
       "      <td>0.038600</td>\n",
       "      <td>0.047000</td>\n",
       "      <td>0.041200</td>\n",
       "      <td>0.046350</td>\n",
       "      <td>0.045600</td>\n",
       "      <td>0.043700</td>\n",
       "      <td>0.050150</td>\n",
       "      <td>0.049500</td>\n",
       "      <td>0.047700</td>\n",
       "      <td>...</td>\n",
       "      <td>2.140000</td>\n",
       "      <td>2.210000</td>\n",
       "      <td>2.230000</td>\n",
       "      <td>2.340000</td>\n",
       "      <td>2.400000</td>\n",
       "      <td>2.410000</td>\n",
       "      <td>2.410000</td>\n",
       "      <td>2.470000</td>\n",
       "      <td>2.420000</td>\n",
       "      <td>2.265000</td>\n",
       "    </tr>\n",
       "    <tr>\n",
       "      <th>75%</th>\n",
       "      <td>0.042800</td>\n",
       "      <td>0.046400</td>\n",
       "      <td>1.047950</td>\n",
       "      <td>0.047900</td>\n",
       "      <td>0.066800</td>\n",
       "      <td>0.058800</td>\n",
       "      <td>0.053300</td>\n",
       "      <td>0.098425</td>\n",
       "      <td>0.050900</td>\n",
       "      <td>0.049900</td>\n",
       "      <td>...</td>\n",
       "      <td>6.545000</td>\n",
       "      <td>6.425000</td>\n",
       "      <td>6.435000</td>\n",
       "      <td>6.535000</td>\n",
       "      <td>5.865000</td>\n",
       "      <td>6.120000</td>\n",
       "      <td>6.220000</td>\n",
       "      <td>6.100000</td>\n",
       "      <td>5.832500</td>\n",
       "      <td>5.695000</td>\n",
       "    </tr>\n",
       "    <tr>\n",
       "      <th>max</th>\n",
       "      <td>2.160000</td>\n",
       "      <td>2.140000</td>\n",
       "      <td>2.130000</td>\n",
       "      <td>2.360000</td>\n",
       "      <td>2.340000</td>\n",
       "      <td>2.400000</td>\n",
       "      <td>2.500000</td>\n",
       "      <td>2.470000</td>\n",
       "      <td>2.440000</td>\n",
       "      <td>2.410000</td>\n",
       "      <td>...</td>\n",
       "      <td>58.900000</td>\n",
       "      <td>62.800000</td>\n",
       "      <td>53.200000</td>\n",
       "      <td>46.700000</td>\n",
       "      <td>43.500000</td>\n",
       "      <td>40.700000</td>\n",
       "      <td>41.200000</td>\n",
       "      <td>44.600000</td>\n",
       "      <td>37.800000</td>\n",
       "      <td>45.400000</td>\n",
       "    </tr>\n",
       "  </tbody>\n",
       "</table>\n",
       "<p>8 rows × 215 columns</p>\n",
       "</div>"
      ],
      "text/plain": [
       "           1800      1801      1802      1803      1804      1805      1806  \\\n",
       "count  5.000000  5.000000  7.000000  5.000000  6.000000  5.000000  5.000000   \n",
       "mean   0.456096  0.450782  0.620493  0.495536  0.425787  0.510852  0.528458   \n",
       "std    0.952620  0.944430  0.994357  1.042398  0.938020  1.056255  1.102275   \n",
       "min    0.005680  0.005610  0.005550  0.005480  0.005420  0.005360  0.005290   \n",
       "25%    0.034800  0.023300  0.032500  0.023100  0.043825  0.044500  0.040000   \n",
       "50%    0.037200  0.038600  0.047000  0.041200  0.046350  0.045600  0.043700   \n",
       "75%    0.042800  0.046400  1.047950  0.047900  0.066800  0.058800  0.053300   \n",
       "max    2.160000  2.140000  2.130000  2.360000  2.340000  2.400000  2.500000   \n",
       "\n",
       "           1807      1808      1809     ...            2005        2006  \\\n",
       "count  6.000000  5.000000  5.000000     ...      190.000000  190.000000   \n",
       "mean   0.454672  0.516694  0.510382     ...        4.632572    4.696715   \n",
       "std    0.987935  1.075319  1.062071     ...        6.738075    6.943929   \n",
       "min    0.005230  0.005170  0.005110     ...        0.020800    0.024400   \n",
       "25%    0.041025  0.037900  0.039200     ...        0.630250    0.611500   \n",
       "50%    0.050150  0.049500  0.047700     ...        2.140000    2.210000   \n",
       "75%    0.098425  0.050900  0.049900     ...        6.545000    6.425000   \n",
       "max    2.470000  2.440000  2.410000     ...       58.900000   62.800000   \n",
       "\n",
       "             2007        2008        2009        2010        2011        2012  \\\n",
       "count  191.000000  191.000000  191.000000  191.000000  191.000000  192.000000   \n",
       "mean     4.700221    4.720091    4.506879    4.604666    4.550413    4.526914   \n",
       "std      6.706373    6.494926    6.157124    6.175062    6.099754    6.145365   \n",
       "min      0.023600    0.023200    0.022500    0.024300    0.026800    0.030300   \n",
       "25%      0.595500    0.587500    0.540500    0.607000    0.636500    0.613750   \n",
       "50%      2.230000    2.340000    2.400000    2.410000    2.410000    2.470000   \n",
       "75%      6.435000    6.535000    5.865000    6.120000    6.220000    6.100000   \n",
       "max     53.200000   46.700000   43.500000   40.700000   41.200000   44.600000   \n",
       "\n",
       "             2013        2014  \n",
       "count  192.000000  192.000000  \n",
       "mean     4.465214    4.440085  \n",
       "std      5.861904    6.065368  \n",
       "min      0.030200    0.044500  \n",
       "25%      0.669500    0.659000  \n",
       "50%      2.420000    2.265000  \n",
       "75%      5.832500    5.695000  \n",
       "max     37.800000   45.400000  \n",
       "\n",
       "[8 rows x 215 columns]"
      ]
     },
     "execution_count": 156,
     "metadata": {},
     "output_type": "execute_result"
    }
   ],
   "source": [
    "df_co2.describe()"
   ]
  },
  {
   "cell_type": "code",
   "execution_count": 157,
   "metadata": {
    "collapsed": true
   },
   "outputs": [],
   "source": [
    "df_co2['region']=np.repeat('',df_co2.shape[0])\n",
    "dz_af=pd.read_csv('Africa.txt')\n",
    "dz_as=pd.read_csv('Asia.txt')\n",
    "dz_eu=pd.read_csv('Europe.txt')\n",
    "dz_oc=pd.read_csv('Oceania.txt')\n",
    "dz_am=pd.read_csv('America.txt')\n",
    "dz_af=dz_af.values.T.tolist()\n",
    "dz_as=dz_as.values.T.tolist()\n",
    "dz_eu=dz_eu.values.T.tolist()\n",
    "dz_oc=dz_oc.values.T.tolist()\n",
    "dz_am=dz_am.values.T.tolist()\n",
    "df_co2.loc[df_co2['geo'].isin(dz_af[0]),['region']]=\"Africa\"\n",
    "df_co2.loc[df_co2['geo'].isin(dz_as[0]),['region']]=\"Asia\"\n",
    "df_co2.loc[df_co2['geo'].isin(dz_eu[0]),['region']]=\"Europe\"\n",
    "df_co2.loc[df_co2['geo'].isin(dz_oc[0]),['region']]=\"Oceania\"\n",
    "df_co2.loc[df_co2['geo'].isin(dz_am[0]),['region']]=\"America\""
   ]
  },
  {
   "cell_type": "code",
   "execution_count": 158,
   "metadata": {},
   "outputs": [
    {
     "data": {
      "text/html": [
       "<div>\n",
       "<style scoped>\n",
       "    .dataframe tbody tr th:only-of-type {\n",
       "        vertical-align: middle;\n",
       "    }\n",
       "\n",
       "    .dataframe tbody tr th {\n",
       "        vertical-align: top;\n",
       "    }\n",
       "\n",
       "    .dataframe thead th {\n",
       "        text-align: right;\n",
       "    }\n",
       "</style>\n",
       "<table border=\"1\" class=\"dataframe\">\n",
       "  <thead>\n",
       "    <tr style=\"text-align: right;\">\n",
       "      <th></th>\n",
       "      <th>geo</th>\n",
       "      <th>1800</th>\n",
       "      <th>1801</th>\n",
       "      <th>1802</th>\n",
       "      <th>1803</th>\n",
       "      <th>1804</th>\n",
       "      <th>1805</th>\n",
       "      <th>1806</th>\n",
       "      <th>1807</th>\n",
       "      <th>1808</th>\n",
       "      <th>...</th>\n",
       "      <th>2006</th>\n",
       "      <th>2007</th>\n",
       "      <th>2008</th>\n",
       "      <th>2009</th>\n",
       "      <th>2010</th>\n",
       "      <th>2011</th>\n",
       "      <th>2012</th>\n",
       "      <th>2013</th>\n",
       "      <th>2014</th>\n",
       "      <th>region</th>\n",
       "    </tr>\n",
       "  </thead>\n",
       "  <tbody>\n",
       "    <tr>\n",
       "      <th>38</th>\n",
       "      <td>Congo, Dem. Rep.</td>\n",
       "      <td>NaN</td>\n",
       "      <td>NaN</td>\n",
       "      <td>NaN</td>\n",
       "      <td>NaN</td>\n",
       "      <td>NaN</td>\n",
       "      <td>NaN</td>\n",
       "      <td>NaN</td>\n",
       "      <td>NaN</td>\n",
       "      <td>NaN</td>\n",
       "      <td>...</td>\n",
       "      <td>0.0285</td>\n",
       "      <td>0.0301</td>\n",
       "      <td>0.0308</td>\n",
       "      <td>0.028</td>\n",
       "      <td>0.0313</td>\n",
       "      <td>0.0374</td>\n",
       "      <td>0.0348</td>\n",
       "      <td>0.0503</td>\n",
       "      <td>0.0634</td>\n",
       "      <td></td>\n",
       "    </tr>\n",
       "    <tr>\n",
       "      <th>39</th>\n",
       "      <td>Congo, Rep.</td>\n",
       "      <td>NaN</td>\n",
       "      <td>NaN</td>\n",
       "      <td>NaN</td>\n",
       "      <td>NaN</td>\n",
       "      <td>NaN</td>\n",
       "      <td>NaN</td>\n",
       "      <td>NaN</td>\n",
       "      <td>NaN</td>\n",
       "      <td>NaN</td>\n",
       "      <td>...</td>\n",
       "      <td>0.2910</td>\n",
       "      <td>0.3050</td>\n",
       "      <td>0.3180</td>\n",
       "      <td>0.410</td>\n",
       "      <td>0.4510</td>\n",
       "      <td>0.5010</td>\n",
       "      <td>0.6410</td>\n",
       "      <td>0.6500</td>\n",
       "      <td>0.6350</td>\n",
       "      <td></td>\n",
       "    </tr>\n",
       "    <tr>\n",
       "      <th>41</th>\n",
       "      <td>Cote d'Ivoire</td>\n",
       "      <td>NaN</td>\n",
       "      <td>NaN</td>\n",
       "      <td>NaN</td>\n",
       "      <td>NaN</td>\n",
       "      <td>NaN</td>\n",
       "      <td>NaN</td>\n",
       "      <td>NaN</td>\n",
       "      <td>NaN</td>\n",
       "      <td>NaN</td>\n",
       "      <td>...</td>\n",
       "      <td>0.3740</td>\n",
       "      <td>0.3550</td>\n",
       "      <td>0.3480</td>\n",
       "      <td>0.284</td>\n",
       "      <td>0.3420</td>\n",
       "      <td>0.3470</td>\n",
       "      <td>0.4340</td>\n",
       "      <td>0.4860</td>\n",
       "      <td>0.4900</td>\n",
       "      <td></td>\n",
       "    </tr>\n",
       "    <tr>\n",
       "      <th>99</th>\n",
       "      <td>Macedonia, FYR</td>\n",
       "      <td>NaN</td>\n",
       "      <td>NaN</td>\n",
       "      <td>NaN</td>\n",
       "      <td>NaN</td>\n",
       "      <td>NaN</td>\n",
       "      <td>NaN</td>\n",
       "      <td>NaN</td>\n",
       "      <td>NaN</td>\n",
       "      <td>NaN</td>\n",
       "      <td>...</td>\n",
       "      <td>5.3000</td>\n",
       "      <td>4.6000</td>\n",
       "      <td>4.5500</td>\n",
       "      <td>4.200</td>\n",
       "      <td>4.1500</td>\n",
       "      <td>4.5400</td>\n",
       "      <td>4.3200</td>\n",
       "      <td>3.7800</td>\n",
       "      <td>3.6100</td>\n",
       "      <td></td>\n",
       "    </tr>\n",
       "    <tr>\n",
       "      <th>110</th>\n",
       "      <td>Micronesia, Fed. Sts.</td>\n",
       "      <td>NaN</td>\n",
       "      <td>NaN</td>\n",
       "      <td>NaN</td>\n",
       "      <td>NaN</td>\n",
       "      <td>NaN</td>\n",
       "      <td>NaN</td>\n",
       "      <td>NaN</td>\n",
       "      <td>NaN</td>\n",
       "      <td>NaN</td>\n",
       "      <td>...</td>\n",
       "      <td>1.1500</td>\n",
       "      <td>1.3300</td>\n",
       "      <td>1.1200</td>\n",
       "      <td>1.550</td>\n",
       "      <td>1.1000</td>\n",
       "      <td>1.1700</td>\n",
       "      <td>1.3100</td>\n",
       "      <td>1.3800</td>\n",
       "      <td>1.4500</td>\n",
       "      <td></td>\n",
       "    </tr>\n",
       "  </tbody>\n",
       "</table>\n",
       "<p>5 rows × 217 columns</p>\n",
       "</div>"
      ],
      "text/plain": [
       "                       geo  1800  1801  1802  1803  1804  1805  1806  1807  \\\n",
       "38        Congo, Dem. Rep.   NaN   NaN   NaN   NaN   NaN   NaN   NaN   NaN   \n",
       "39             Congo, Rep.   NaN   NaN   NaN   NaN   NaN   NaN   NaN   NaN   \n",
       "41           Cote d'Ivoire   NaN   NaN   NaN   NaN   NaN   NaN   NaN   NaN   \n",
       "99          Macedonia, FYR   NaN   NaN   NaN   NaN   NaN   NaN   NaN   NaN   \n",
       "110  Micronesia, Fed. Sts.   NaN   NaN   NaN   NaN   NaN   NaN   NaN   NaN   \n",
       "\n",
       "     1808   ...      2006    2007    2008   2009    2010    2011    2012  \\\n",
       "38    NaN   ...    0.0285  0.0301  0.0308  0.028  0.0313  0.0374  0.0348   \n",
       "39    NaN   ...    0.2910  0.3050  0.3180  0.410  0.4510  0.5010  0.6410   \n",
       "41    NaN   ...    0.3740  0.3550  0.3480  0.284  0.3420  0.3470  0.4340   \n",
       "99    NaN   ...    5.3000  4.6000  4.5500  4.200  4.1500  4.5400  4.3200   \n",
       "110   NaN   ...    1.1500  1.3300  1.1200  1.550  1.1000  1.1700  1.3100   \n",
       "\n",
       "       2013    2014  region  \n",
       "38   0.0503  0.0634          \n",
       "39   0.6500  0.6350          \n",
       "41   0.4860  0.4900          \n",
       "99   3.7800  3.6100          \n",
       "110  1.3800  1.4500          \n",
       "\n",
       "[5 rows x 217 columns]"
      ]
     },
     "execution_count": 158,
     "metadata": {},
     "output_type": "execute_result"
    }
   ],
   "source": [
    "df_co2.query(\"region==''\")"
   ]
  },
  {
   "cell_type": "code",
   "execution_count": 159,
   "metadata": {
    "collapsed": true
   },
   "outputs": [],
   "source": [
    "df_co2.loc[[38,39,41],['region']]=\"Africa\"\n",
    "df_co2.loc[99,['region']]=\"Europe\"\n",
    "df_co2.loc[110,['region']]=\"Oceania\""
   ]
  },
  {
   "cell_type": "code",
   "execution_count": 160,
   "metadata": {},
   "outputs": [
    {
     "data": {
      "text/html": [
       "<div>\n",
       "<style scoped>\n",
       "    .dataframe tbody tr th:only-of-type {\n",
       "        vertical-align: middle;\n",
       "    }\n",
       "\n",
       "    .dataframe tbody tr th {\n",
       "        vertical-align: top;\n",
       "    }\n",
       "\n",
       "    .dataframe thead th {\n",
       "        text-align: right;\n",
       "    }\n",
       "</style>\n",
       "<table border=\"1\" class=\"dataframe\">\n",
       "  <thead>\n",
       "    <tr style=\"text-align: right;\">\n",
       "      <th></th>\n",
       "      <th>geo</th>\n",
       "      <th>1800</th>\n",
       "      <th>1801</th>\n",
       "      <th>1802</th>\n",
       "      <th>1803</th>\n",
       "      <th>1804</th>\n",
       "      <th>1805</th>\n",
       "      <th>1806</th>\n",
       "      <th>1807</th>\n",
       "      <th>1808</th>\n",
       "      <th>...</th>\n",
       "      <th>2006</th>\n",
       "      <th>2007</th>\n",
       "      <th>2008</th>\n",
       "      <th>2009</th>\n",
       "      <th>2010</th>\n",
       "      <th>2011</th>\n",
       "      <th>2012</th>\n",
       "      <th>2013</th>\n",
       "      <th>2014</th>\n",
       "      <th>region</th>\n",
       "    </tr>\n",
       "  </thead>\n",
       "  <tbody>\n",
       "  </tbody>\n",
       "</table>\n",
       "<p>0 rows × 217 columns</p>\n",
       "</div>"
      ],
      "text/plain": [
       "Empty DataFrame\n",
       "Columns: [geo, 1800, 1801, 1802, 1803, 1804, 1805, 1806, 1807, 1808, 1809, 1810, 1811, 1812, 1813, 1814, 1815, 1816, 1817, 1818, 1819, 1820, 1821, 1822, 1823, 1824, 1825, 1826, 1827, 1828, 1829, 1830, 1831, 1832, 1833, 1834, 1835, 1836, 1837, 1838, 1839, 1840, 1841, 1842, 1843, 1844, 1845, 1846, 1847, 1848, 1849, 1850, 1851, 1852, 1853, 1854, 1855, 1856, 1857, 1858, 1859, 1860, 1861, 1862, 1863, 1864, 1865, 1866, 1867, 1868, 1869, 1870, 1871, 1872, 1873, 1874, 1875, 1876, 1877, 1878, 1879, 1880, 1881, 1882, 1883, 1884, 1885, 1886, 1887, 1888, 1889, 1890, 1891, 1892, 1893, 1894, 1895, 1896, 1897, 1898, ...]\n",
       "Index: []\n",
       "\n",
       "[0 rows x 217 columns]"
      ]
     },
     "execution_count": 160,
     "metadata": {},
     "output_type": "execute_result"
    }
   ],
   "source": [
    "df_co2.query(\"region==''\")"
   ]
  },
  {
   "cell_type": "code",
   "execution_count": 161,
   "metadata": {},
   "outputs": [
    {
     "data": {
      "image/png": "[encoded data removed]",
      "text/plain": [
       "<matplotlib.figure.Figure at 0x1a1aa14f98>"
      ]
     },
     "metadata": {},
     "output_type": "display_data"
    }
   ],
   "source": [
    "dfcm=df_co2.groupby('region').mean()\n",
    "np.transpose(dfcm).plot(kind='line')\n",
    "plt.xticks(np.arange(len(dfcm.columns), step=len(dfcm.columns)/15), dfcm.columns[::round(len(dfcm.columns)/15)],rotation='vertical')\n",
    "plt.grid()\n",
    "plt.xlabel('Year')\n",
    "plt.ylabel('Tons of CO2')\n",
    "plt.title('Tons of CO2 per person')\n",
    "plt.show()"
   ]
  },
  {
   "cell_type": "code",
   "execution_count": 162,
   "metadata": {
    "collapsed": true
   },
   "outputs": [],
   "source": [
    "df_co2.to_csv('df_co2_edited.csv', index=False)"
   ]
  },
  {
   "cell_type": "markdown",
   "metadata": {},
   "source": [
    "### Answer Research question 4  \n",
    "* In general, the amount of CO2 emission around the world has increased during the period shown\n",
    "* The African countries always has the lowest emission rate \n",
    "* The Asian countries started with a low rate but rocketed in 1940s, even overtook that of the European"
   ]
  },
  {
   "cell_type": "markdown",
   "metadata": {},
   "source": [
    "### Research question 5\n",
    "In general, what does the incomes around the world look like?\n",
    "\n"
   ]
  },
  {
   "cell_type": "markdown",
   "metadata": {},
   "source": [
    "The similar method employed for the life expectancy dataset is used for this dataset"
   ]
  },
  {
   "cell_type": "code",
   "execution_count": 163,
   "metadata": {
    "collapsed": true
   },
   "outputs": [],
   "source": [
    "import pandas as pd\n",
    "import numpy as np\n",
    "import seaborn as sns\n",
    "import matplotlib.pyplot as plt\n",
    "%matplotlib inline\n",
    "df_income= pd.read_csv('income_per_person_gdppercapita_ppp_inflation_adjusted.csv')"
   ]
  },
  {
   "cell_type": "code",
   "execution_count": 164,
   "metadata": {},
   "outputs": [
    {
     "data": {
      "text/html": [
       "<div>\n",
       "<style scoped>\n",
       "    .dataframe tbody tr th:only-of-type {\n",
       "        vertical-align: middle;\n",
       "    }\n",
       "\n",
       "    .dataframe tbody tr th {\n",
       "        vertical-align: top;\n",
       "    }\n",
       "\n",
       "    .dataframe thead th {\n",
       "        text-align: right;\n",
       "    }\n",
       "</style>\n",
       "<table border=\"1\" class=\"dataframe\">\n",
       "  <thead>\n",
       "    <tr style=\"text-align: right;\">\n",
       "      <th></th>\n",
       "      <th>geo</th>\n",
       "      <th>1800</th>\n",
       "      <th>1801</th>\n",
       "      <th>1802</th>\n",
       "      <th>1803</th>\n",
       "      <th>1804</th>\n",
       "      <th>1805</th>\n",
       "      <th>1806</th>\n",
       "      <th>1807</th>\n",
       "      <th>1808</th>\n",
       "      <th>...</th>\n",
       "      <th>2009</th>\n",
       "      <th>2010</th>\n",
       "      <th>2011</th>\n",
       "      <th>2012</th>\n",
       "      <th>2013</th>\n",
       "      <th>2014</th>\n",
       "      <th>2015</th>\n",
       "      <th>2016</th>\n",
       "      <th>2017</th>\n",
       "      <th>2018</th>\n",
       "    </tr>\n",
       "  </thead>\n",
       "  <tbody>\n",
       "    <tr>\n",
       "      <th>0</th>\n",
       "      <td>Afghanistan</td>\n",
       "      <td>603</td>\n",
       "      <td>603</td>\n",
       "      <td>603</td>\n",
       "      <td>603</td>\n",
       "      <td>603</td>\n",
       "      <td>603</td>\n",
       "      <td>603</td>\n",
       "      <td>603</td>\n",
       "      <td>603</td>\n",
       "      <td>...</td>\n",
       "      <td>1530</td>\n",
       "      <td>1610</td>\n",
       "      <td>1660</td>\n",
       "      <td>1840</td>\n",
       "      <td>1810</td>\n",
       "      <td>1780</td>\n",
       "      <td>1750</td>\n",
       "      <td>1740</td>\n",
       "      <td>1800</td>\n",
       "      <td>1870</td>\n",
       "    </tr>\n",
       "    <tr>\n",
       "      <th>1</th>\n",
       "      <td>Albania</td>\n",
       "      <td>667</td>\n",
       "      <td>667</td>\n",
       "      <td>667</td>\n",
       "      <td>667</td>\n",
       "      <td>667</td>\n",
       "      <td>668</td>\n",
       "      <td>668</td>\n",
       "      <td>668</td>\n",
       "      <td>668</td>\n",
       "      <td>...</td>\n",
       "      <td>9530</td>\n",
       "      <td>9930</td>\n",
       "      <td>10200</td>\n",
       "      <td>10400</td>\n",
       "      <td>10500</td>\n",
       "      <td>10700</td>\n",
       "      <td>11000</td>\n",
       "      <td>11400</td>\n",
       "      <td>11900</td>\n",
       "      <td>12400</td>\n",
       "    </tr>\n",
       "  </tbody>\n",
       "</table>\n",
       "<p>2 rows × 220 columns</p>\n",
       "</div>"
      ],
      "text/plain": [
       "           geo  1800  1801  1802  1803  1804  1805  1806  1807  1808  ...    \\\n",
       "0  Afghanistan   603   603   603   603   603   603   603   603   603  ...     \n",
       "1      Albania   667   667   667   667   667   668   668   668   668  ...     \n",
       "\n",
       "   2009  2010   2011   2012   2013   2014   2015   2016   2017   2018  \n",
       "0  1530  1610   1660   1840   1810   1780   1750   1740   1800   1870  \n",
       "1  9530  9930  10200  10400  10500  10700  11000  11400  11900  12400  \n",
       "\n",
       "[2 rows x 220 columns]"
      ]
     },
     "execution_count": 164,
     "metadata": {},
     "output_type": "execute_result"
    }
   ],
   "source": [
    "df_income.head(2)"
   ]
  },
  {
   "cell_type": "code",
   "execution_count": 165,
   "metadata": {},
   "outputs": [
    {
     "data": {
      "text/plain": [
       "0"
      ]
     },
     "execution_count": 165,
     "metadata": {},
     "output_type": "execute_result"
    }
   ],
   "source": [
    "sum(df_income.isnull().any())"
   ]
  },
  {
   "cell_type": "code",
   "execution_count": 166,
   "metadata": {},
   "outputs": [
    {
     "data": {
      "text/plain": [
       "0"
      ]
     },
     "execution_count": 166,
     "metadata": {},
     "output_type": "execute_result"
    }
   ],
   "source": [
    "sum(df_income.duplicated())"
   ]
  },
  {
   "cell_type": "code",
   "execution_count": 167,
   "metadata": {
    "collapsed": true
   },
   "outputs": [],
   "source": [
    "df_income['region']=np.repeat('',df_income.shape[0])\n",
    "dt_af=pd.read_csv('Africa.txt')\n",
    "dt_as=pd.read_csv('Asia.txt')\n",
    "dt_eu=pd.read_csv('Europe.txt')\n",
    "dt_oc=pd.read_csv('Oceania.txt')\n",
    "dt_am=pd.read_csv('America.txt')\n",
    "dt_af=dt_af.values.T.tolist()\n",
    "dt_as=dt_as.values.T.tolist()\n",
    "dt_eu=dt_eu.values.T.tolist()\n",
    "dt_oc=dt_oc.values.T.tolist()\n",
    "dt_am=dt_am.values.T.tolist()\n",
    "df_income.loc[df_income['geo'].isin(dt_af[0]),['region']]=\"Africa\"\n",
    "df_income.loc[df_income['geo'].isin(dt_as[0]),['region']]=\"Asia\"\n",
    "df_income.loc[df_income['geo'].isin(dt_eu[0]),['region']]=\"Europe\"\n",
    "df_income.loc[df_income['geo'].isin(dt_oc[0]),['region']]=\"Oceania\"\n",
    "df_income.loc[df_income['geo'].isin(dt_am[0]),['region']]=\"America\""
   ]
  },
  {
   "cell_type": "code",
   "execution_count": 168,
   "metadata": {},
   "outputs": [
    {
     "data": {
      "text/html": [
       "<div>\n",
       "<style scoped>\n",
       "    .dataframe tbody tr th:only-of-type {\n",
       "        vertical-align: middle;\n",
       "    }\n",
       "\n",
       "    .dataframe tbody tr th {\n",
       "        vertical-align: top;\n",
       "    }\n",
       "\n",
       "    .dataframe thead th {\n",
       "        text-align: right;\n",
       "    }\n",
       "</style>\n",
       "<table border=\"1\" class=\"dataframe\">\n",
       "  <thead>\n",
       "    <tr style=\"text-align: right;\">\n",
       "      <th></th>\n",
       "      <th>geo</th>\n",
       "      <th>1800</th>\n",
       "      <th>1801</th>\n",
       "      <th>1802</th>\n",
       "      <th>1803</th>\n",
       "      <th>1804</th>\n",
       "      <th>1805</th>\n",
       "      <th>1806</th>\n",
       "      <th>1807</th>\n",
       "      <th>1808</th>\n",
       "      <th>...</th>\n",
       "      <th>2010</th>\n",
       "      <th>2011</th>\n",
       "      <th>2012</th>\n",
       "      <th>2013</th>\n",
       "      <th>2014</th>\n",
       "      <th>2015</th>\n",
       "      <th>2016</th>\n",
       "      <th>2017</th>\n",
       "      <th>2018</th>\n",
       "      <th>region</th>\n",
       "    </tr>\n",
       "  </thead>\n",
       "  <tbody>\n",
       "    <tr>\n",
       "      <th>38</th>\n",
       "      <td>Congo, Dem. Rep.</td>\n",
       "      <td>485</td>\n",
       "      <td>487</td>\n",
       "      <td>489</td>\n",
       "      <td>491</td>\n",
       "      <td>493</td>\n",
       "      <td>495</td>\n",
       "      <td>497</td>\n",
       "      <td>499</td>\n",
       "      <td>501</td>\n",
       "      <td>...</td>\n",
       "      <td>609</td>\n",
       "      <td>630</td>\n",
       "      <td>653</td>\n",
       "      <td>685</td>\n",
       "      <td>726</td>\n",
       "      <td>750</td>\n",
       "      <td>742</td>\n",
       "      <td>745</td>\n",
       "      <td>751</td>\n",
       "      <td></td>\n",
       "    </tr>\n",
       "    <tr>\n",
       "      <th>39</th>\n",
       "      <td>Congo, Rep.</td>\n",
       "      <td>575</td>\n",
       "      <td>576</td>\n",
       "      <td>578</td>\n",
       "      <td>580</td>\n",
       "      <td>581</td>\n",
       "      <td>583</td>\n",
       "      <td>585</td>\n",
       "      <td>586</td>\n",
       "      <td>588</td>\n",
       "      <td>...</td>\n",
       "      <td>5190</td>\n",
       "      <td>5210</td>\n",
       "      <td>5270</td>\n",
       "      <td>5320</td>\n",
       "      <td>5540</td>\n",
       "      <td>5540</td>\n",
       "      <td>5300</td>\n",
       "      <td>5650</td>\n",
       "      <td>5620</td>\n",
       "      <td></td>\n",
       "    </tr>\n",
       "    <tr>\n",
       "      <th>41</th>\n",
       "      <td>Cote d'Ivoire</td>\n",
       "      <td>812</td>\n",
       "      <td>816</td>\n",
       "      <td>819</td>\n",
       "      <td>822</td>\n",
       "      <td>825</td>\n",
       "      <td>829</td>\n",
       "      <td>832</td>\n",
       "      <td>835</td>\n",
       "      <td>839</td>\n",
       "      <td>...</td>\n",
       "      <td>2690</td>\n",
       "      <td>2510</td>\n",
       "      <td>2710</td>\n",
       "      <td>2880</td>\n",
       "      <td>3060</td>\n",
       "      <td>3250</td>\n",
       "      <td>3450</td>\n",
       "      <td>3600</td>\n",
       "      <td>3760</td>\n",
       "      <td></td>\n",
       "    </tr>\n",
       "    <tr>\n",
       "      <th>98</th>\n",
       "      <td>Macedonia, FYR</td>\n",
       "      <td>690</td>\n",
       "      <td>690</td>\n",
       "      <td>690</td>\n",
       "      <td>690</td>\n",
       "      <td>690</td>\n",
       "      <td>691</td>\n",
       "      <td>691</td>\n",
       "      <td>691</td>\n",
       "      <td>691</td>\n",
       "      <td>...</td>\n",
       "      <td>11400</td>\n",
       "      <td>11600</td>\n",
       "      <td>11600</td>\n",
       "      <td>11900</td>\n",
       "      <td>12300</td>\n",
       "      <td>12800</td>\n",
       "      <td>13100</td>\n",
       "      <td>13500</td>\n",
       "      <td>14000</td>\n",
       "      <td></td>\n",
       "    </tr>\n",
       "    <tr>\n",
       "      <th>109</th>\n",
       "      <td>Micronesia, Fed. Sts.</td>\n",
       "      <td>518</td>\n",
       "      <td>518</td>\n",
       "      <td>518</td>\n",
       "      <td>519</td>\n",
       "      <td>519</td>\n",
       "      <td>519</td>\n",
       "      <td>520</td>\n",
       "      <td>520</td>\n",
       "      <td>520</td>\n",
       "      <td>...</td>\n",
       "      <td>3340</td>\n",
       "      <td>3410</td>\n",
       "      <td>3430</td>\n",
       "      <td>3300</td>\n",
       "      <td>3180</td>\n",
       "      <td>3290</td>\n",
       "      <td>3330</td>\n",
       "      <td>3380</td>\n",
       "      <td>3410</td>\n",
       "      <td></td>\n",
       "    </tr>\n",
       "  </tbody>\n",
       "</table>\n",
       "<p>5 rows × 221 columns</p>\n",
       "</div>"
      ],
      "text/plain": [
       "                       geo  1800  1801  1802  1803  1804  1805  1806  1807  \\\n",
       "38        Congo, Dem. Rep.   485   487   489   491   493   495   497   499   \n",
       "39             Congo, Rep.   575   576   578   580   581   583   585   586   \n",
       "41           Cote d'Ivoire   812   816   819   822   825   829   832   835   \n",
       "98          Macedonia, FYR   690   690   690   690   690   691   691   691   \n",
       "109  Micronesia, Fed. Sts.   518   518   518   519   519   519   520   520   \n",
       "\n",
       "     1808   ...     2010   2011   2012   2013   2014   2015   2016   2017  \\\n",
       "38    501   ...      609    630    653    685    726    750    742    745   \n",
       "39    588   ...     5190   5210   5270   5320   5540   5540   5300   5650   \n",
       "41    839   ...     2690   2510   2710   2880   3060   3250   3450   3600   \n",
       "98    691   ...    11400  11600  11600  11900  12300  12800  13100  13500   \n",
       "109   520   ...     3340   3410   3430   3300   3180   3290   3330   3380   \n",
       "\n",
       "      2018  region  \n",
       "38     751          \n",
       "39    5620          \n",
       "41    3760          \n",
       "98   14000          \n",
       "109   3410          \n",
       "\n",
       "[5 rows x 221 columns]"
      ]
     },
     "execution_count": 168,
     "metadata": {},
     "output_type": "execute_result"
    }
   ],
   "source": [
    "df_income.query(\"region==''\")"
   ]
  },
  {
   "cell_type": "code",
   "execution_count": 169,
   "metadata": {
    "collapsed": true
   },
   "outputs": [],
   "source": [
    "df_income.loc[[38,39,41],['region']]=\"Africa\"\n",
    "df_income.loc[98,['region']]=\"Europe\"\n",
    "df_income.loc[109,['region']]=\"Oceania\""
   ]
  },
  {
   "cell_type": "code",
   "execution_count": 170,
   "metadata": {},
   "outputs": [
    {
     "data": {
      "text/html": [
       "<div>\n",
       "<style scoped>\n",
       "    .dataframe tbody tr th:only-of-type {\n",
       "        vertical-align: middle;\n",
       "    }\n",
       "\n",
       "    .dataframe tbody tr th {\n",
       "        vertical-align: top;\n",
       "    }\n",
       "\n",
       "    .dataframe thead th {\n",
       "        text-align: right;\n",
       "    }\n",
       "</style>\n",
       "<table border=\"1\" class=\"dataframe\">\n",
       "  <thead>\n",
       "    <tr style=\"text-align: right;\">\n",
       "      <th></th>\n",
       "      <th>geo</th>\n",
       "      <th>1800</th>\n",
       "      <th>1801</th>\n",
       "      <th>1802</th>\n",
       "      <th>1803</th>\n",
       "      <th>1804</th>\n",
       "      <th>1805</th>\n",
       "      <th>1806</th>\n",
       "      <th>1807</th>\n",
       "      <th>1808</th>\n",
       "      <th>...</th>\n",
       "      <th>2010</th>\n",
       "      <th>2011</th>\n",
       "      <th>2012</th>\n",
       "      <th>2013</th>\n",
       "      <th>2014</th>\n",
       "      <th>2015</th>\n",
       "      <th>2016</th>\n",
       "      <th>2017</th>\n",
       "      <th>2018</th>\n",
       "      <th>region</th>\n",
       "    </tr>\n",
       "  </thead>\n",
       "  <tbody>\n",
       "  </tbody>\n",
       "</table>\n",
       "<p>0 rows × 221 columns</p>\n",
       "</div>"
      ],
      "text/plain": [
       "Empty DataFrame\n",
       "Columns: [geo, 1800, 1801, 1802, 1803, 1804, 1805, 1806, 1807, 1808, 1809, 1810, 1811, 1812, 1813, 1814, 1815, 1816, 1817, 1818, 1819, 1820, 1821, 1822, 1823, 1824, 1825, 1826, 1827, 1828, 1829, 1830, 1831, 1832, 1833, 1834, 1835, 1836, 1837, 1838, 1839, 1840, 1841, 1842, 1843, 1844, 1845, 1846, 1847, 1848, 1849, 1850, 1851, 1852, 1853, 1854, 1855, 1856, 1857, 1858, 1859, 1860, 1861, 1862, 1863, 1864, 1865, 1866, 1867, 1868, 1869, 1870, 1871, 1872, 1873, 1874, 1875, 1876, 1877, 1878, 1879, 1880, 1881, 1882, 1883, 1884, 1885, 1886, 1887, 1888, 1889, 1890, 1891, 1892, 1893, 1894, 1895, 1896, 1897, 1898, ...]\n",
       "Index: []\n",
       "\n",
       "[0 rows x 221 columns]"
      ]
     },
     "execution_count": 170,
     "metadata": {},
     "output_type": "execute_result"
    }
   ],
   "source": [
    "df_income.query(\"region==''\")"
   ]
  },
  {
   "cell_type": "code",
   "execution_count": 171,
   "metadata": {},
   "outputs": [
    {
     "data": {
      "image/png": "[encoded data removed]",
      "text/plain": [
       "<matplotlib.figure.Figure at 0x1a1a75d2b0>"
      ]
     },
     "metadata": {},
     "output_type": "display_data"
    }
   ],
   "source": [
    "dfim=df_income.groupby('region').mean()\n",
    "np.transpose(dfim).plot(kind='line')\n",
    "plt.xticks(np.arange(len(dfim.columns), step=len(dfim.columns)/15), dfim.columns[::round(len(dfim.columns)/15)],rotation='vertical')\n",
    "plt.grid()\n",
    "plt.xlabel('Year')\n",
    "plt.ylabel('GDP')\n",
    "plt.title('DGP per capita')\n",
    "plt.show()"
   ]
  },
  {
   "cell_type": "code",
   "execution_count": 172,
   "metadata": {
    "collapsed": true
   },
   "outputs": [],
   "source": [
    "df_income.to_csv('df_income_edited.csv', index=False)"
   ]
  },
  {
   "cell_type": "markdown",
   "metadata": {},
   "source": [
    "### Answer Research question 5\n",
    "* In general, the GDP per capita index around the world has increased during the period shown\n",
    "* The African countries always have the lowest GDP index whereas the European countries always have the highest ones\n",
    "* The GDP index of all countries had increased significantly since 1950s"
   ]
  },
  {
   "cell_type": "markdown",
   "metadata": {},
   "source": [
    "### Research question 6  \n",
    "Which factor has the strongest relation to the life expectancy in your region?\n"
   ]
  },
  {
   "cell_type": "markdown",
   "metadata": {},
   "source": [
    "For this question, I selected Europe region to analyse. All data is for European countries"
   ]
  },
  {
   "cell_type": "markdown",
   "metadata": {},
   "source": [
    "Read the previous dataframe which are edited with region"
   ]
  },
  {
   "cell_type": "code",
   "execution_count": 173,
   "metadata": {
    "collapsed": true
   },
   "outputs": [],
   "source": [
    "df_income=pd.read_csv('df_income_edited.csv')\n",
    "df_co2=pd.read_csv('df_co2_edited.csv')\n",
    "df_mortality=pd.read_csv('df_mortality_edited.csv')\n",
    "df_baby=pd.read_csv('df_baby_edited.csv')"
   ]
  },
  {
   "cell_type": "markdown",
   "metadata": {},
   "source": [
    "Find the mean values of these dataframes"
   ]
  },
  {
   "cell_type": "code",
   "execution_count": 174,
   "metadata": {
    "collapsed": true
   },
   "outputs": [],
   "source": [
    "dfleu_mean=dfleu.mean()\n",
    "dfieu_mean=df_income.query('region==\"Europe\"').mean()\n",
    "dfceu_mean=df_co2.query('region==\"Europe\"').mean()\n",
    "dfmeu_mean=df_mortality.query('region==\"Europe\"').mean()\n",
    "dfbeu_mean=df_baby.query('region==\"Europe\"').mean()"
   ]
  },
  {
   "cell_type": "markdown",
   "metadata": {},
   "source": [
    "Check the size of these dataframe to plot the scatter later"
   ]
  },
  {
   "cell_type": "code",
   "execution_count": 175,
   "metadata": {},
   "outputs": [
    {
     "data": {
      "text/plain": [
       "(219, 215, 219, 219)"
      ]
     },
     "execution_count": 175,
     "metadata": {},
     "output_type": "execute_result"
    }
   ],
   "source": [
    "dfieu_mean.shape[0],dfceu_mean.shape[0], dfmeu_mean.shape[0],dfbeu_mean.shape[0]"
   ]
  },
  {
   "cell_type": "markdown",
   "metadata": {},
   "source": [
    "dfceu has the smaller size. See which rows are missing"
   ]
  },
  {
   "cell_type": "code",
   "execution_count": 57,
   "metadata": {},
   "outputs": [
    {
     "data": {
      "text/plain": [
       "2012    6.608095\n",
       "2013    6.489048\n",
       "2014    6.187381\n",
       "dtype: float64"
      ]
     },
     "execution_count": 57,
     "metadata": {},
     "output_type": "execute_result"
    }
   ],
   "source": [
    "dfceu_mean.tail(3)"
   ]
  },
  {
   "cell_type": "code",
   "execution_count": 61,
   "metadata": {},
   "outputs": [
    {
     "data": {
      "text/plain": [
       "219"
      ]
     },
     "execution_count": 61,
     "metadata": {},
     "output_type": "execute_result"
    }
   ],
   "source": [
    "dfleu_mean.shape[0]"
   ]
  },
  {
   "cell_type": "code",
   "execution_count": 59,
   "metadata": {},
   "outputs": [
    {
     "data": {
      "text/plain": [
       "2014    78.639024\n",
       "2015    78.736585\n",
       "2016    78.826829\n",
       "2017    78.890000\n",
       "2018    79.040000\n",
       "dtype: float64"
      ]
     },
     "execution_count": 59,
     "metadata": {},
     "output_type": "execute_result"
    }
   ],
   "source": [
    "dfleu_mean.tail(5)"
   ]
  },
  {
   "cell_type": "markdown",
   "metadata": {},
   "source": [
    "Plot the scatter plot for all the factors versus Life Expectancy "
   ]
  },
  {
   "cell_type": "code",
   "execution_count": 89,
   "metadata": {},
   "outputs": [
    {
     "data": {
      "image/png": "[encoded data removed]",
      "text/plain": [
       "<matplotlib.figure.Figure at 0x1a1b328048>"
      ]
     },
     "metadata": {},
     "output_type": "display_data"
    }
   ],
   "source": [
    "# Income\n",
    "plt.subplot(221)\n",
    "plt.scatter(dfieu_mean,dfleu_mean)\n",
    "plt.xlabel('Income')\n",
    "plt.title('Income vs Life expectancy')\n",
    "plt.grid(True)\n",
    "\n",
    "# CO2\n",
    "plt.subplot(222)\n",
    "plt.scatter(dfceu_mean,dfleu_mean[:-(dfleu_mean.shape[0]-dfceu_mean.shape[0])])\n",
    "plt.xlabel('CO2')\n",
    "plt.title('CO2 vs Life expectancy')\n",
    "plt.grid(True)\n",
    "\n",
    "# Mortality\n",
    "plt.subplot(223)\n",
    "plt.scatter(dfmeu_mean,dfleu_mean)\n",
    "plt.xlabel('Mortality')\n",
    "plt.title('Mortality vs Life expectancy')\n",
    "plt.grid(True)\n",
    "\n",
    "# Baby\n",
    "plt.subplot(224)\n",
    "plt.scatter(dfbeu_mean,dfleu_mean)\n",
    "plt.xlabel('Baby')\n",
    "plt.title('Baby vs Life expectancy')\n",
    "plt.grid(True)\n",
    "plt.subplots_adjust(top=0.92, bottom=0.08, left=0.10, right=0.95, hspace=0.65, wspace=0.35)\n",
    "plt.show()\n"
   ]
  },
  {
   "cell_type": "markdown",
   "metadata": {},
   "source": [
    "Perform Correlation Test to identify the strength of the relationship"
   ]
  },
  {
   "cell_type": "code",
   "execution_count": 90,
   "metadata": {},
   "outputs": [
    {
     "data": {
      "text/plain": [
       "array([[ 1.        ,  0.90644319],\n",
       "       [ 0.90644319,  1.        ]])"
      ]
     },
     "execution_count": 90,
     "metadata": {},
     "output_type": "execute_result"
    }
   ],
   "source": [
    "np.corrcoef(dfieu_mean,dfleu_mean)"
   ]
  },
  {
   "cell_type": "code",
   "execution_count": 91,
   "metadata": {},
   "outputs": [
    {
     "data": {
      "text/plain": [
       "array([[ 1.        , -0.98461876],\n",
       "       [-0.98461876,  1.        ]])"
      ]
     },
     "execution_count": 91,
     "metadata": {},
     "output_type": "execute_result"
    }
   ],
   "source": [
    "np.corrcoef(dfmeu_mean,dfleu_mean)"
   ]
  },
  {
   "cell_type": "code",
   "execution_count": 92,
   "metadata": {},
   "outputs": [
    {
     "data": {
      "text/plain": [
       "array([[ 1.        , -0.97342551],\n",
       "       [-0.97342551,  1.        ]])"
      ]
     },
     "execution_count": 92,
     "metadata": {},
     "output_type": "execute_result"
    }
   ],
   "source": [
    "np.corrcoef(dfbeu_mean,dfleu_mean)"
   ]
  },
  {
   "cell_type": "code",
   "execution_count": 93,
   "metadata": {},
   "outputs": [
    {
     "data": {
      "text/plain": [
       "array([[ 1.        ,  0.95217169],\n",
       "       [ 0.95217169,  1.        ]])"
      ]
     },
     "execution_count": 93,
     "metadata": {},
     "output_type": "execute_result"
    }
   ],
   "source": [
    "np.corrcoef(dfceu_mean,dfleu_mean[:-(dfleu_mean.shape[0]-dfceu_mean.shape[0])])"
   ]
  },
  {
   "cell_type": "markdown",
   "metadata": {},
   "source": [
    "### Answer Research question 6\n",
    "* In general, all the indicators, GDP per capital, Children Mortality rate, Number of babies per woman and \n",
    "the amount of CO2 emission have a strong correlation to the Life expectancy \n",
    "* The Children Mortality rate has the strongest correlation to the Life expectancy, corr()=-0.985, meaning that if the\n",
    "Children Mortality rate increases, it is likely that the Life expectancy will decrease\n"
   ]
  },
  {
   "cell_type": "markdown",
   "metadata": {},
   "source": [
    "### Research question 7 to 10\n",
    "* What is the relationship between the number of babies per woman vs child mortality in your region?\n",
    "* What is the relationship between the number of babies per woman vs life expectancy in your region?\n",
    "* What is the relationship between the amount of CO2 emissions vs the Income in your region?\n",
    "* Which factor has the strongest relation to the Income in your region?"
   ]
  },
  {
   "cell_type": "markdown",
   "metadata": {},
   "source": [
    "For these questions, I combine all indicators to a single dataframe to do the analysis"
   ]
  },
  {
   "cell_type": "code",
   "execution_count": 105,
   "metadata": {
    "collapsed": true
   },
   "outputs": [],
   "source": [
    "df_euro_combined=pd.concat([dfleu_mean,dfieu_mean,dfmeu_mean,dfbeu_mean,dfceu_mean], axis=1, keys=['Life expectancy','Income','Mortality rate','Baby rate','CO2 emission'])"
   ]
  },
  {
   "cell_type": "code",
   "execution_count": 111,
   "metadata": {},
   "outputs": [
    {
     "data": {
      "text/html": [
       "<div>\n",
       "<style scoped>\n",
       "    .dataframe tbody tr th:only-of-type {\n",
       "        vertical-align: middle;\n",
       "    }\n",
       "\n",
       "    .dataframe tbody tr th {\n",
       "        vertical-align: top;\n",
       "    }\n",
       "\n",
       "    .dataframe thead th {\n",
       "        text-align: right;\n",
       "    }\n",
       "</style>\n",
       "<table border=\"1\" class=\"dataframe\">\n",
       "  <thead>\n",
       "    <tr style=\"text-align: right;\">\n",
       "      <th></th>\n",
       "      <th>Life expectancy</th>\n",
       "      <th>Income</th>\n",
       "      <th>Mortality rate</th>\n",
       "      <th>Baby rate</th>\n",
       "      <th>CO2 emission</th>\n",
       "    </tr>\n",
       "  </thead>\n",
       "  <tbody>\n",
       "    <tr>\n",
       "      <th>1800</th>\n",
       "      <td>35.565</td>\n",
       "      <td>1437.953488</td>\n",
       "      <td>378.825</td>\n",
       "      <td>5.35700</td>\n",
       "      <td>0.745867</td>\n",
       "    </tr>\n",
       "    <tr>\n",
       "      <th>1801</th>\n",
       "      <td>35.545</td>\n",
       "      <td>1437.372093</td>\n",
       "      <td>376.925</td>\n",
       "      <td>5.34525</td>\n",
       "      <td>0.736567</td>\n",
       "    </tr>\n",
       "  </tbody>\n",
       "</table>\n",
       "</div>"
      ],
      "text/plain": [
       "      Life expectancy       Income  Mortality rate  Baby rate  CO2 emission\n",
       "1800           35.565  1437.953488         378.825    5.35700      0.745867\n",
       "1801           35.545  1437.372093         376.925    5.34525      0.736567"
      ]
     },
     "execution_count": 111,
     "metadata": {},
     "output_type": "execute_result"
    }
   ],
   "source": [
    "df_euro_combined.head(2)"
   ]
  },
  {
   "cell_type": "markdown",
   "metadata": {},
   "source": [
    "Plot the scatter matrix for all indicators"
   ]
  },
  {
   "cell_type": "code",
   "execution_count": 109,
   "metadata": {},
   "outputs": [
    {
     "data": {
      "image/png": "[encoded data removed]",
      "text/plain": [
       "<matplotlib.figure.Figure at 0x1a1b20c160>"
      ]
     },
     "metadata": {},
     "output_type": "display_data"
    }
   ],
   "source": [
    "pd.plotting.scatter_matrix(df_euro_combined,figsize=(10,10))\n",
    "plt.show()"
   ]
  },
  {
   "cell_type": "markdown",
   "metadata": {},
   "source": [
    "Plot the heat map of the correlation coefficient for all indicators"
   ]
  },
  {
   "cell_type": "code",
   "execution_count": 125,
   "metadata": {},
   "outputs": [
    {
     "data": {
      "text/plain": [
       "<matplotlib.axes._subplots.AxesSubplot at 0x1a1b279780>"
      ]
     },
     "execution_count": 125,
     "metadata": {},
     "output_type": "execute_result"
    },
    {
     "data": {
      "image/png": "[encoded data removed]",
      "text/plain": [
       "<matplotlib.figure.Figure at 0x1a1b061550>"
      ]
     },
     "metadata": {},
     "output_type": "display_data"
    }
   ],
   "source": [
    "sns.heatmap(df_euro_combined.corr(), xticklabels=df_euro_combined.columns, \n",
    "            yticklabels=df_euro_combined.columns, \n",
    "            vmin=-1, vmax=1,\n",
    "            linecolor='white',\n",
    "            linewidths=0.1,\n",
    "            annot=True)"
   ]
  },
  {
   "cell_type": "markdown",
   "metadata": {},
   "source": [
    "### Answer Research question 7 to 10\n",
    "* The correlation between the number of babies per woman vs child mortality in Europe is **positive and strong**, corr=0.99 \n",
    "* The correlation between the number of babies per woman vs life expectancy in Europe is **negative and strong**, corr=-0.97\n",
    "* The correlation between the amount of CO2 emissions vs the Income in Europe is **positive and quite strong**, corr=0.88\n",
    "* Among the indicator, Life expectancy the **strongest relation** to the Income in Europe, corr=0.91"
   ]
  },
  {
   "cell_type": "markdown",
   "metadata": {
    "collapsed": true
   },
   "source": [
    "Please be noted that there are some repeatitions in the way to load txt file and assign regions to countries from \n",
    "Research question 1 to 5 because I worked on them seperately and do the final combination for the report only"
   ]
  }
 ],
 "metadata": {
  "kernelspec": {
   "display_name": "Python [conda root]",
   "language": "python",
   "name": "conda-root-py"
  },
  "language_info": {
   "codemirror_mode": {
    "name": "ipython",
    "version": 3
   },
   "file_extension": ".py",
   "mimetype": "text/x-python",
   "name": "python",
   "nbconvert_exporter": "python",
   "pygments_lexer": "ipython3",
   "version": "3.6.3"
  }
 },
 "nbformat": 4,
 "nbformat_minor": 2
}
